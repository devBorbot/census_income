{
 "cells": [
  {
   "cell_type": "code",
   "execution_count": null,
   "id": "983f5ce0-b235-4adf-bd2c-550948c4a24d",
   "metadata": {},
   "outputs": [],
   "source": [
    "%matplotlib inline"
   ]
  },
  {
   "cell_type": "code",
   "execution_count": null,
   "id": "ed119cef-a5f1-44fc-8916-a1b3f20a7ec9",
   "metadata": {},
   "outputs": [],
   "source": [
    "import pandas as pd\n",
    "import numpy as np\n",
    "import seaborn as sns\n",
    "import matplotlib.pyplot as plt\n",
    "pd.options.display.max_columns = None\n",
    "pd.set_option('display.max_colwidth', None)\n",
    "from IPython.display import display, HTML\n",
    "display(HTML(\"<style>:root { --jp-notebook-max-width: 100% !important; }</style>\"))"
   ]
  },
  {
   "cell_type": "code",
   "execution_count": null,
   "id": "fde4d2c9-233c-490b-b3d5-2c15da028eb0",
   "metadata": {},
   "outputs": [],
   "source": [
    "!ls data/"
   ]
  },
  {
   "cell_type": "code",
   "execution_count": null,
   "id": "a219baa2-81c2-409f-8d85-ac16aa8ea730",
   "metadata": {},
   "outputs": [],
   "source": [
    "!ls sup_info/"
   ]
  },
  {
   "cell_type": "markdown",
   "id": "3e5190e7-b190-4187-a3d9-894090312d3a",
   "metadata": {},
   "source": [
    "## Functions"
   ]
  },
  {
   "cell_type": "code",
   "execution_count": null,
   "id": "055c72e6-098a-45c6-9725-5fba415467ef",
   "metadata": {
    "jupyter": {
     "source_hidden": true
    }
   },
   "outputs": [],
   "source": [
    "# created append_anomaly_counts function to get anomaly counts with different dataset slices\n",
    "def append_anomaly_counts(df_info=None, dataframe=None):\n",
    "    res = []\n",
    "    df_info[\"nunique\"] = dataframe.nunique().values\n",
    "    df_info[\"uknown_count\"] = dataframe.eq(\"?\").sum().values\n",
    "    for idx, row in df_info.iterrows():\n",
    "        column = row[\"column_name\"]\n",
    "        if row[\"column_type\"] == \"continuous\":\n",
    "            dataframe[column] = dataframe[column].astype(float)\n",
    "            res.append({\"column_name\":column, \"NIU_count\":0})\n",
    "        else:\n",
    "            dataframe[column] = dataframe[column].astype(str)\n",
    "            dataframe_NIU_mask = dataframe[column].str.contains(\"Not in universe\")\n",
    "            if dataframe_NIU_mask.any():\n",
    "                dataframe_NIU_uval = dataframe[column][dataframe_NIU_mask].unique().item()\n",
    "                NIU_count = dataframe[dataframe[column] == dataframe_NIU_uval].shape[0]\n",
    "                res.append({\"column_name\":column, \"NIU_count\":NIU_count})\n",
    "            else:\n",
    "                res.append({\"column_name\":column, \"NIU_count\":0})\n",
    "    # matching nominal column sanity check\n",
    "    if (df_info[df_info[\"column_type\"]==\"nominal\"][\"column_name\"].values == dataframe.select_dtypes(object).columns).all():\n",
    "        df_info = pd.concat([df_info, pd.DataFrame(res)[\"NIU_count\"]], axis=1)\n",
    "        df_info = df_info.assign(row_count=dataframe.shape[0])\n",
    "    return df_info"
   ]
  },
  {
   "cell_type": "markdown",
   "id": "94f7fe84-808c-4822-9795-c7c1d51779d8",
   "metadata": {},
   "source": [
    "## Get input data"
   ]
  },
  {
   "cell_type": "code",
   "execution_count": null,
   "id": "8fdc6483-094e-46d3-828f-ca3797af54bf",
   "metadata": {},
   "outputs": [],
   "source": [
    "df0 = pd.read_csv(\n",
    "    filepath_or_buffer=\"data/census_income_learn.csv\",\n",
    "    header=None).drop(24,axis=1)"
   ]
  },
  {
   "cell_type": "code",
   "execution_count": null,
   "id": "e1caed63-0171-4c02-96a8-1f4f7d0080d0",
   "metadata": {
    "jupyter": {
     "source_hidden": true
    }
   },
   "outputs": [],
   "source": [
    "data_info = [\n",
    "    \"|   91 distinct values for attribute #0 (age) continuous\",\n",
    "    \"|    9 distinct values for attribute #1 (class of worker) nominal\",\n",
    "    \"|   52 distinct values for attribute #2 (detailed industry recode) nominal\",\n",
    "    \"|   47 distinct values for attribute #3 (detailed occupation recode) nominal\",\n",
    "    \"|   17 distinct values for attribute #4 (education) nominal\",\n",
    "    \"| 1240 distinct values for attribute #5 (wage per hour) continuous\",\n",
    "    \"|    3 distinct values for attribute #6 (enroll in edu inst last wk) nominal\",\n",
    "    \"|    7 distinct values for attribute #7 (marital stat) nominal\",\n",
    "    \"|   24 distinct values for attribute #8 (major industry code) nominal\",\n",
    "    \"|   15 distinct values for attribute #9 (major occupation code) nominal\",\n",
    "    \"|    5 distinct values for attribute #10 (race) nominal\",\n",
    "    \"|   10 distinct values for attribute #11 (hispanic origin) nominal\",\n",
    "    \"|    2 distinct values for attribute #12 (sex) nominal\",\n",
    "    \"|    3 distinct values for attribute #13 (member of a labor union) nominal\",\n",
    "    \"|    6 distinct values for attribute #14 (reason for unemployment) nominal\",\n",
    "    \"|    8 distinct values for attribute #15 (full or part time employment stat) nominal\",\n",
    "    \"|  132 distinct values for attribute #16 (capital gains) continuous\",\n",
    "    \"|  113 distinct values for attribute #17 (capital losses) continuous\",\n",
    "    \"| 1478 distinct values for attribute #18 (dividends from stocks) continuous\",\n",
    "    \"|    6 distinct values for attribute #19 (tax filer stat) nominal\",\n",
    "    \"|    6 distinct values for attribute #20 (region of previous residence) nominal\",\n",
    "    \"|   51 distinct values for attribute #21 (state of previous residence) nominal\",\n",
    "    \"|   38 distinct values for attribute #22 (detailed household and family stat) nominal\",\n",
    "    \"|    8 distinct values for attribute #23 (detailed household summary in household) nominal\",\n",
    "    \"|   10 distinct values for attribute #24 (migration code-change in msa) nominal\",\n",
    "    \"|    9 distinct values for attribute #25 (migration code-change in reg) nominal\",\n",
    "    \"|   10 distinct values for attribute #26 (migration code-move within reg) nominal\",\n",
    "    \"|    3 distinct values for attribute #27 (live in this house 1 year ago) nominal\",\n",
    "    \"|    4 distinct values for attribute #28 (migration prev res in sunbelt) nominal\",\n",
    "    \"|    7 distinct values for attribute #29 (num persons worked for employer) continuous\",\n",
    "    \"|    5 distinct values for attribute #30 (family members under 18) nominal\",\n",
    "    \"|   43 distinct values for attribute #31 (country of birth father) nominal\",\n",
    "    \"|   43 distinct values for attribute #32 (country of birth mother) nominal\",\n",
    "    \"|   43 distinct values for attribute #33 (country of birth self) nominal\",\n",
    "    \"|    5 distinct values for attribute #34 (citizenship) nominal\",\n",
    "    \"|    3 distinct values for attribute #35 (own business or self employed) nominal\",\n",
    "    \"|    3 distinct values for attribute #36 (fill inc questionnaire for veteran's admin) nominal\",\n",
    "    \"|    3 distinct values for attribute #37 (veterans benefits) nominal\",\n",
    "    \"|   53 distinct values for attribute #38 (weeks worked in year) continuous\",\n",
    "    \"|    2 distinct values for attribute #39 (year) nominal\",\n",
    "]"
   ]
  },
  {
   "cell_type": "markdown",
   "id": "88c1fd32-354f-4540-b7a4-603027c609f9",
   "metadata": {},
   "source": [
    "## Clean data"
   ]
  },
  {
   "cell_type": "code",
   "execution_count": null,
   "id": "807ed1ae-bf65-4e50-8dfc-2be9e0a97b44",
   "metadata": {},
   "outputs": [],
   "source": [
    "s_data_info = pd.Series(data_info)\\\n",
    "    .str.replace(\"|\", \"\")\\\n",
    "    .str.replace(\"distinct values for attribute #\", \",\")\\\n",
    "    .str.replace(\"(\", \",\")\\\n",
    "    .str.replace(\")\", \",\")\\\n",
    "    .str.replace(\"'\",\"\")\\\n",
    "    .str.strip()\n",
    "df_data_info = s_data_info.str.split(\",\", expand=True).drop(1,axis=1)\n",
    "df_data_info.columns = [\"nunique\", \"column_name\", \"column_type\"]\n",
    "df_data_info[\"nunique\"] = df_data_info[\"nunique\"].astype(int)\n",
    "df_data_info.loc[40] = [2, \"target\", \"nominal\"]\n",
    "df_data_info = df_data_info.map(lambda x: x.strip() if isinstance(x, str) else x)"
   ]
  },
  {
   "cell_type": "code",
   "execution_count": null,
   "id": "df16a1e4-5848-4635-a68a-431cb161cdc3",
   "metadata": {},
   "outputs": [],
   "source": [
    "print(df0.shape)\n",
    "print(df0.duplicated().sum()) # different total than metadata file (46627 vs.46716)\n",
    "if (df0.nunique().reset_index(drop=True) == df_data_info[\"nunique\"]).all():\n",
    "    print(\"renaming columns\")\n",
    "    df0.columns = df_data_info[\"column_name\"].tolist()\n",
    "df0 = df0.map(lambda x: x.strip() if isinstance(x, str) else x)\n",
    "df0[\"target\"] = df0[\"target\"].str.replace(\".\", \"\")"
   ]
  },
  {
   "cell_type": "code",
   "execution_count": null,
   "id": "e4d4fd01-3d05-44b7-b14b-27f8a0f70c4b",
   "metadata": {},
   "outputs": [],
   "source": [
    "# drop duplicate rows\n",
    "df1 = df0.drop_duplicates(ignore_index=True)\n",
    "print(df1.shape)"
   ]
  },
  {
   "cell_type": "code",
   "execution_count": null,
   "id": "ac05ab40-5f05-42aa-bd64-eca9c40cee6f",
   "metadata": {},
   "outputs": [],
   "source": [
    "# if edu is Children then target < 50k\n",
    "df1[df1[\"education\"]==\"Children\"][\"target\"].value_counts()\n",
    "df1 = df1[df1[\"education\"]!=\"Children\"].reset_index(drop=True)\n",
    "print(df1.shape)\n",
    "print(df1.duplicated().sum())"
   ]
  },
  {
   "cell_type": "code",
   "execution_count": null,
   "id": "5f96e177-6a27-4ac5-94ba-82af3252ba7e",
   "metadata": {
    "scrolled": true
   },
   "outputs": [],
   "source": [
    "df_info_res = append_anomaly_counts(df_info=df_data_info, dataframe=df1)"
   ]
  },
  {
   "cell_type": "markdown",
   "id": "76b2ebd8-2173-4948-b764-070bc041e5e2",
   "metadata": {},
   "source": [
    "## EDA"
   ]
  },
  {
   "cell_type": "markdown",
   "id": "c5b527e1-bc86-4c49-a7a8-9fff52294c53",
   "metadata": {},
   "source": [
    "### descriptive statistics"
   ]
  },
  {
   "cell_type": "code",
   "execution_count": null,
   "id": "9a564945-74e6-4721-8059-9744072c5a4f",
   "metadata": {
    "scrolled": true
   },
   "outputs": [],
   "source": [
    "df1.describe()"
   ]
  },
  {
   "cell_type": "code",
   "execution_count": null,
   "id": "b302521b-b93d-4cfb-b01d-a121aaedf1ed",
   "metadata": {
    "scrolled": true
   },
   "outputs": [],
   "source": [
    "df1.describe(include=\"object\")"
   ]
  },
  {
   "cell_type": "code",
   "execution_count": null,
   "id": "ce15462d-318c-4ea0-9df1-75d0df8b6429",
   "metadata": {},
   "outputs": [],
   "source": []
  },
  {
   "cell_type": "code",
   "execution_count": null,
   "id": "e48aecd7-11c0-4960-af02-2d8e0449992a",
   "metadata": {},
   "outputs": [],
   "source": []
  },
  {
   "cell_type": "markdown",
   "id": "eaa8c7bd-a2ec-4a48-b9da-96647eabf921",
   "metadata": {},
   "source": [
    "### plot categorical distributions"
   ]
  },
  {
   "cell_type": "code",
   "execution_count": null,
   "id": "b0617f5b-aa02-43c9-923f-d766a9c2c82b",
   "metadata": {},
   "outputs": [],
   "source": [
    "cat_cols = df1.select_dtypes(include='object')\n",
    "for col in cat_cols:\n",
    "    n = df1[col].nunique()\n",
    "    if n <= 22:\n",
    "        sns.countplot(\n",
    "            y=col,\n",
    "            data=df1,\n",
    "            hue=col,\n",
    "            palette=sns.color_palette(palette=\"colorblind\", n_colors=n),\n",
    "            legend=False\n",
    "        )\n",
    "        plt.show()"
   ]
  },
  {
   "cell_type": "markdown",
   "id": "d52e6978-498c-4203-b703-057499799eb5",
   "metadata": {},
   "source": [
    "### slice target by numerical features"
   ]
  },
  {
   "cell_type": "code",
   "execution_count": null,
   "id": "b355a4ef-2e1c-41d5-a31f-580ce0503505",
   "metadata": {},
   "outputs": [],
   "source": [
    "num_cols = df1.select_dtypes(float).columns.values\n",
    "for col in num_cols:\n",
    "    sns.boxplot(\n",
    "        y=df1['target'].astype('category'),\n",
    "        hue=df1['target'].astype('category'),\n",
    "        x=col,\n",
    "        data=df1,\n",
    "        palette=sns.color_palette(palette=\"colorblind\", n_colors=2)\n",
    "    )\n",
    "    plt.show()"
   ]
  },
  {
   "cell_type": "code",
   "execution_count": null,
   "id": "f2051a13-fa45-4936-91c0-4b19f5816617",
   "metadata": {},
   "outputs": [],
   "source": [
    "for col in num_cols:\n",
    "    df1[col].hist(bins=20)\n",
    "    plt.show()"
   ]
  },
  {
   "cell_type": "markdown",
   "id": "51916c8a-bbb7-4237-8485-6496589e75bf",
   "metadata": {},
   "source": [
    "### slice target by categorical features"
   ]
  },
  {
   "cell_type": "code",
   "execution_count": null,
   "id": "359a4206-cfc7-4ec9-80f7-acf148b33c32",
   "metadata": {},
   "outputs": [],
   "source": [
    "# NEEDS REFACTORING\n",
    "for col in data.select_dtypes(include='object'):\n",
    "    if data[col].nunique() <=4:\n",
    "        display(pd.crosstab(data['target'], data[col], normalize='index'))\n",
    "        #display(pd.crosstab(data['target'], data[col]))"
   ]
  }
 ],
 "metadata": {
  "kernelspec": {
   "display_name": "Python 3 (ipykernel)",
   "language": "python",
   "name": "python3"
  },
  "language_info": {
   "codemirror_mode": {
    "name": "ipython",
    "version": 3
   },
   "file_extension": ".py",
   "mimetype": "text/x-python",
   "name": "python",
   "nbconvert_exporter": "python",
   "pygments_lexer": "ipython3",
   "version": "3.11.9"
  }
 },
 "nbformat": 4,
 "nbformat_minor": 5
}
