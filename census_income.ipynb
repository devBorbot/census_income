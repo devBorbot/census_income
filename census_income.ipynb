{
 "cells": [
  {
   "cell_type": "code",
   "execution_count": null,
   "id": "983f5ce0-b235-4adf-bd2c-550948c4a24d",
   "metadata": {},
   "outputs": [],
   "source": [
    "%matplotlib inline"
   ]
  },
  {
   "cell_type": "code",
   "execution_count": null,
   "id": "ed119cef-a5f1-44fc-8916-a1b3f20a7ec9",
   "metadata": {},
   "outputs": [],
   "source": [
    "import pandas as pd\n",
    "import numpy as np\n",
    "pd.options.display.max_columns = None\n",
    "pd.set_option('display.max_colwidth', None)"
   ]
  },
  {
   "cell_type": "code",
   "execution_count": null,
   "id": "fde4d2c9-233c-490b-b3d5-2c15da028eb0",
   "metadata": {},
   "outputs": [],
   "source": [
    "!ls data/"
   ]
  },
  {
   "cell_type": "code",
   "execution_count": null,
   "id": "a219baa2-81c2-409f-8d85-ac16aa8ea730",
   "metadata": {},
   "outputs": [],
   "source": [
    "!ls sup_info/"
   ]
  },
  {
   "cell_type": "code",
   "execution_count": null,
   "id": "e1caed63-0171-4c02-96a8-1f4f7d0080d0",
   "metadata": {
    "jupyter": {
     "source_hidden": true
    }
   },
   "outputs": [],
   "source": [
    "data_info = [\n",
    "    \"|   91 distinct values for attribute #0 (age) continuous\",\n",
    "    \"|    9 distinct values for attribute #1 (class of worker) nominal\",\n",
    "    \"|   52 distinct values for attribute #2 (detailed industry recode) nominal\",\n",
    "    \"|   47 distinct values for attribute #3 (detailed occupation recode) nominal\",\n",
    "    \"|   17 distinct values for attribute #4 (education) nominal\",\n",
    "    \"| 1240 distinct values for attribute #5 (wage per hour) continuous\",\n",
    "    \"|    3 distinct values for attribute #6 (enroll in edu inst last wk) nominal\",\n",
    "    \"|    7 distinct values for attribute #7 (marital stat) nominal\",\n",
    "    \"|   24 distinct values for attribute #8 (major industry code) nominal\",\n",
    "    \"|   15 distinct values for attribute #9 (major occupation code) nominal\",\n",
    "    \"|    5 distinct values for attribute #10 (race) nominal\",\n",
    "    \"|   10 distinct values for attribute #11 (hispanic origin) nominal\",\n",
    "    \"|    2 distinct values for attribute #12 (sex) nominal\",\n",
    "    \"|    3 distinct values for attribute #13 (member of a labor union) nominal\",\n",
    "    \"|    6 distinct values for attribute #14 (reason for unemployment) nominal\",\n",
    "    \"|    8 distinct values for attribute #15 (full or part time employment stat) nominal\",\n",
    "    \"|  132 distinct values for attribute #16 (capital gains) continuous\",\n",
    "    \"|  113 distinct values for attribute #17 (capital losses) continuous\",\n",
    "    \"| 1478 distinct values for attribute #18 (dividends from stocks) continuous\",\n",
    "    \"|    6 distinct values for attribute #19 (tax filer stat) nominal\",\n",
    "    \"|    6 distinct values for attribute #20 (region of previous residence) nominal\",\n",
    "    \"|   51 distinct values for attribute #21 (state of previous residence) nominal\",\n",
    "    \"|   38 distinct values for attribute #22 (detailed household and family stat) nominal\",\n",
    "    \"|    8 distinct values for attribute #23 (detailed household summary in household) nominal\",\n",
    "    \"|   10 distinct values for attribute #24 (migration code-change in msa) nominal\",\n",
    "    \"|    9 distinct values for attribute #25 (migration code-change in reg) nominal\",\n",
    "    \"|   10 distinct values for attribute #26 (migration code-move within reg) nominal\",\n",
    "    \"|    3 distinct values for attribute #27 (live in this house 1 year ago) nominal\",\n",
    "    \"|    4 distinct values for attribute #28 (migration prev res in sunbelt) nominal\",\n",
    "    \"|    7 distinct values for attribute #29 (num persons worked for employer) continuous\",\n",
    "    \"|    5 distinct values for attribute #30 (family members under 18) nominal\",\n",
    "    \"|   43 distinct values for attribute #31 (country of birth father) nominal\",\n",
    "    \"|   43 distinct values for attribute #32 (country of birth mother) nominal\",\n",
    "    \"|   43 distinct values for attribute #33 (country of birth self) nominal\",\n",
    "    \"|    5 distinct values for attribute #34 (citizenship) nominal\",\n",
    "    \"|    3 distinct values for attribute #35 (own business or self employed) nominal\",\n",
    "    \"|    3 distinct values for attribute #36 (fill inc questionnaire for veteran's admin) nominal\",\n",
    "    \"|    3 distinct values for attribute #37 (veterans benefits) nominal\",\n",
    "    \"|   53 distinct values for attribute #38 (weeks worked in year) continuous\",\n",
    "    \"|    2 distinct values for attribute #39 (year) nominal\",\n",
    "]"
   ]
  },
  {
   "cell_type": "code",
   "execution_count": null,
   "id": "807ed1ae-bf65-4e50-8dfc-2be9e0a97b44",
   "metadata": {},
   "outputs": [],
   "source": [
    "s_data_info = pd.Series(data_info)\\\n",
    "    .str.replace(\"|\", \"\")\\\n",
    "    .str.replace(\"distinct values for attribute #\", \",\")\\\n",
    "    .str.replace(\"(\", \",\")\\\n",
    "    .str.replace(\")\", \",\")\\\n",
    "    .str.replace(\"'\",\"\")\\\n",
    "    .str.strip()\n",
    "df_data_info = s_data_info.str.split(\",\", expand=True).drop(1,axis=1)\n",
    "df_data_info.columns = [\"nunique\", \"column_name\", \"column_type\"]\n",
    "df_data_info[\"nunique\"] = df_data_info[\"nunique\"].astype(int)\n",
    "df_data_info.loc[40] = [2, \"target\", \"nominal\"]"
   ]
  },
  {
   "cell_type": "code",
   "execution_count": null,
   "id": "b307ddc7-3307-4984-b00f-85688af77cf8",
   "metadata": {},
   "outputs": [],
   "source": [
    "df0 = pd.read_csv(filepath_or_buffer=\"data/census_income_learn.csv\", header=None).drop(24,axis=1)\n",
    "if (df0.nunique().reset_index(drop=True) == df_data_info[\"nunique\"]).all():\n",
    "    print(\"renaming columns\")\n",
    "    df0.columns = df_data_info[\"column_name\"].tolist()"
   ]
  },
  {
   "cell_type": "markdown",
   "id": "e804c731-7f4a-4492-aed0-3240244c2788",
   "metadata": {},
   "source": [
    "### EDA\n",
    "- dropna or remove columns with nan from model - no imputation\n",
    "- all nan values are in object columns"
   ]
  },
  {
   "cell_type": "code",
   "execution_count": null,
   "id": "845607ba-03d8-4914-9a6a-54816149ca1a",
   "metadata": {},
   "outputs": [],
   "source": [
    "# cleanup values in object columns\n",
    "df0 = df0.map(lambda x: x.strip() if isinstance(x, str) else x)\n",
    "df0[\"target\"] = df0[\"target\"].str.replace(\".\", \"\")\n",
    "df0 = df0.replace(\"?\", np.nan)\n",
    "df0_nan = df0.isna().sum()\n",
    "df0_shape = df0.shape\n",
    "print(df0_shape)"
   ]
  },
  {
   "cell_type": "code",
   "execution_count": null,
   "id": "87a8ff4a-e8f0-40c6-9978-90fe669800f0",
   "metadata": {},
   "outputs": [],
   "source": [
    "df0[df0[\"education\"]==\"Children\"][\"target\"].value_counts() # if edu is Children then target < 50k"
   ]
  },
  {
   "cell_type": "code",
   "execution_count": null,
   "id": "1f883a7a-80fc-4b6c-b44e-d5f48ab06ece",
   "metadata": {},
   "outputs": [],
   "source": [
    "df_data_info[\"percent_missing\"] = (df0_nan / df0_shape[0] * 100).round(2).values\n",
    "df_data_info[df_data_info[\"percent_missing\"]>0]"
   ]
  },
  {
   "cell_type": "code",
   "execution_count": null,
   "id": "f8be3a2c-e073-4649-b379-460b23342a83",
   "metadata": {},
   "outputs": [],
   "source": [
    "df0[\"migration code-move within reg\"].unique()"
   ]
  },
  {
   "cell_type": "code",
   "execution_count": null,
   "id": "fac18932-2b2d-40a0-83cf-f1ae433b483c",
   "metadata": {},
   "outputs": [],
   "source": [
    "df1 = df0[df0[\"education\"]!=\"Children\"].reset_index(drop=True) # if edu is Children then target < 50k\n",
    "print(df1.shape)"
   ]
  },
  {
   "cell_type": "code",
   "execution_count": null,
   "id": "8648ecf2-62c4-4136-a9ac-53f953c9e786",
   "metadata": {},
   "outputs": [],
   "source": [
    "df1.duplicated().sum()"
   ]
  },
  {
   "cell_type": "code",
   "execution_count": null,
   "id": "b33487f1-3bce-45c1-a9d9-a8944596bfa6",
   "metadata": {},
   "outputs": [],
   "source": [
    "# object_columns = df0.select_dtypes(object).columns\n",
    "# from IPython.display import clear_output\n",
    "# for object_column in object_columns:\n",
    "#     print(f\"column name: {object_column}\\n\")\n",
    "#     unique_values = df0[object_column].unique()\n",
    "#     if pd.Series(unique_values).str.contains(\"Not in universe\").sum()>0:\n",
    "#         print(\"not in universe value\")\n",
    "#     print(unique_values)\n",
    "#     input()\n",
    "#     clear_output()"
   ]
  },
  {
   "cell_type": "code",
   "execution_count": null,
   "id": "87801b94-1c6c-4134-99e6-845d38f345b7",
   "metadata": {},
   "outputs": [],
   "source": []
  }
 ],
 "metadata": {
  "kernelspec": {
   "display_name": "Python 3 (ipykernel)",
   "language": "python",
   "name": "python3"
  },
  "language_info": {
   "codemirror_mode": {
    "name": "ipython",
    "version": 3
   },
   "file_extension": ".py",
   "mimetype": "text/x-python",
   "name": "python",
   "nbconvert_exporter": "python",
   "pygments_lexer": "ipython3",
   "version": "3.11.9"
  }
 },
 "nbformat": 4,
 "nbformat_minor": 5
}
