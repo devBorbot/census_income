{
 "cells": [
  {
   "cell_type": "code",
   "execution_count": null,
   "id": "ed119cef-a5f1-44fc-8916-a1b3f20a7ec9",
   "metadata": {},
   "outputs": [],
   "source": [
    "import pandas as pd\n",
    "import numpy as np"
   ]
  },
  {
   "cell_type": "code",
   "execution_count": null,
   "id": "fde4d2c9-233c-490b-b3d5-2c15da028eb0",
   "metadata": {},
   "outputs": [],
   "source": [
    "!ls data/"
   ]
  },
  {
   "cell_type": "code",
   "execution_count": null,
   "id": "a219baa2-81c2-409f-8d85-ac16aa8ea730",
   "metadata": {},
   "outputs": [],
   "source": [
    "!ls sup_info/"
   ]
  },
  {
   "cell_type": "markdown",
   "id": "22cbb8c9-57aa-462d-b646-2e1b57c947f0",
   "metadata": {},
   "source": [
    "## Import data"
   ]
  },
  {
   "cell_type": "code",
   "execution_count": null,
   "id": "afbb2276-ee5d-4508-bda4-73bc8e068737",
   "metadata": {},
   "outputs": [],
   "source": [
    "col_info = pd.read_csv(filepath_or_buffer=\"sup_info/data_cols.csv\")"
   ]
  },
  {
   "cell_type": "code",
   "execution_count": null,
   "id": "7f5a07a6-cb63-4c95-a1b0-d95a490a17f5",
   "metadata": {},
   "outputs": [],
   "source": [
    "learn = pd.read_csv(filepath_or_buffer=\"data/census_income_learn.csv\", header=None)\n",
    "learn.columns = col_info[\"col_name\"].str.lower().values\n",
    "print(learn.shape)\n",
    "learn.head()"
   ]
  },
  {
   "cell_type": "markdown",
   "id": "af9cbcba-b610-40bf-bcbb-a311ee1e9004",
   "metadata": {},
   "source": [
    "## Explore data"
   ]
  },
  {
   "cell_type": "code",
   "execution_count": null,
   "id": "15910842-e73a-4268-8c53-ecea168b6ab0",
   "metadata": {},
   "outputs": [],
   "source": [
    "learn.describe()"
   ]
  },
  {
   "cell_type": "code",
   "execution_count": null,
   "id": "63ca0d3f-bdbf-4005-842b-252261587514",
   "metadata": {},
   "outputs": [],
   "source": [
    "learn.isna().sum()"
   ]
  },
  {
   "cell_type": "code",
   "execution_count": null,
   "id": "f4c52b5c-f180-49a9-b69f-32014d3bc1bf",
   "metadata": {},
   "outputs": [],
   "source": [
    "learn.nunique()"
   ]
  },
  {
   "cell_type": "code",
   "execution_count": null,
   "id": "e7479e75-8fa9-4679-96d9-a3acddd20f72",
   "metadata": {},
   "outputs": [],
   "source": [
    "learn.duplicated().sum()"
   ]
  },
  {
   "cell_type": "code",
   "execution_count": null,
   "id": "1f207d6d-443e-4c2a-9ed2-dee80ebb2b0d",
   "metadata": {},
   "outputs": [],
   "source": [
    "learn.columns"
   ]
  },
  {
   "cell_type": "code",
   "execution_count": null,
   "id": "ee60d8d5-38cb-4106-b3f5-233a5e9dd375",
   "metadata": {},
   "outputs": [],
   "source": [
    "learn.head()"
   ]
  },
  {
   "cell_type": "code",
   "execution_count": null,
   "id": "ca6b8ddd-690c-47e8-bda6-ea95ad8d8201",
   "metadata": {},
   "outputs": [],
   "source": [
    "learn[\"edu\"].value_counts()"
   ]
  },
  {
   "cell_type": "code",
   "execution_count": null,
   "id": "3b5eb5fb-6eda-4aac-bd4c-f003dd19bea8",
   "metadata": {},
   "outputs": [],
   "source": []
  }
 ],
 "metadata": {
  "kernelspec": {
   "display_name": "Python 3 (ipykernel)",
   "language": "python",
   "name": "python3"
  },
  "language_info": {
   "codemirror_mode": {
    "name": "ipython",
    "version": 3
   },
   "file_extension": ".py",
   "mimetype": "text/x-python",
   "name": "python",
   "nbconvert_exporter": "python",
   "pygments_lexer": "ipython3",
   "version": "3.11.9"
  }
 },
 "nbformat": 4,
 "nbformat_minor": 5
}
