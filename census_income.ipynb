{
 "cells": [
  {
   "cell_type": "code",
   "execution_count": 1,
   "id": "ed119cef-a5f1-44fc-8916-a1b3f20a7ec9",
   "metadata": {},
   "outputs": [],
   "source": [
    "import pandas as pd\n",
    "import numpy as np\n",
    "import seaborn as sns\n",
    "import matplotlib.pyplot as plt\n",
    "\n",
    "pd.options.display.max_columns = None\n",
    "# pd.set_option('display.max_colwidth', None)\n",
    "from IPython.display import display, HTML\n",
    "# display(HTML(\"<style>:root { --jp-notebook-max-width: 100% !important; }</style>\"))"
   ]
  },
  {
   "cell_type": "code",
   "execution_count": 2,
   "id": "fde4d2c9-233c-490b-b3d5-2c15da028eb0",
   "metadata": {},
   "outputs": [],
   "source": [
    "# !ls data/"
   ]
  },
  {
   "cell_type": "code",
   "execution_count": 3,
   "id": "a219baa2-81c2-409f-8d85-ac16aa8ea730",
   "metadata": {},
   "outputs": [],
   "source": [
    "# !ls sup_info/"
   ]
  },
  {
   "cell_type": "markdown",
   "id": "3e5190e7-b190-4187-a3d9-894090312d3a",
   "metadata": {
    "jp-MarkdownHeadingCollapsed": true
   },
   "source": [
    "## Functions"
   ]
  },
  {
   "cell_type": "code",
   "execution_count": 4,
   "id": "055c72e6-098a-45c6-9725-5fba415467ef",
   "metadata": {},
   "outputs": [],
   "source": [
    "# created append_anomaly_counts function to get anomaly counts with different datasets & slices\n",
    "def append_anomaly_counts(df_info=None, dataframe=None, col_suffix=\"\"):\n",
    "    res = []\n",
    "    df_info[\"nunique\"] = dataframe.nunique().values\n",
    "    df_info[\"uknown_count\"] = dataframe.eq(\"?\").sum().values\n",
    "    for idx, row in df_info.iterrows():\n",
    "        column = row[\"column_name\"]\n",
    "        if row[\"column_type\"] == \"continuous\":\n",
    "            dataframe[column] = dataframe[column].astype(float)\n",
    "            res.append({\"column_name\":column, \"NIU_count\":0})\n",
    "        else:\n",
    "            dataframe[column] = dataframe[column].astype(str)\n",
    "            dataframe_NIU_mask = dataframe[column].str.contains(\"Not in universe\")\n",
    "            if dataframe_NIU_mask.any():\n",
    "                dataframe_NIU_uval = dataframe[column][dataframe_NIU_mask].unique().item()\n",
    "                NIU_count = dataframe[dataframe[column] == dataframe_NIU_uval].shape[0]\n",
    "                res.append({\"column_name\":column, \"NIU_count\":NIU_count})\n",
    "            else:\n",
    "                res.append({\"column_name\":column, \"NIU_count\":0})\n",
    "    # matching nominal column sanity check\n",
    "    if (df_info[df_info[\"column_type\"]==\"nominal\"][\"column_name\"].values == dataframe.select_dtypes(object).columns).all():\n",
    "        df_info = pd.concat([df_info, pd.DataFrame(res)[\"NIU_count\"]], axis=1)\n",
    "        df_info = df_info.assign(row_count=dataframe.shape[0])\n",
    "    return df_info"
   ]
  },
  {
   "cell_type": "code",
   "execution_count": 5,
   "id": "936df00c-3805-4ffd-8d67-6d61eaf63c74",
   "metadata": {},
   "outputs": [],
   "source": [
    "def change_target_value(dataframe=None):\n",
    "    dataframe.loc[dataframe[\"target\"] == \"- 50000\", \"target\"] = \"0\"\n",
    "    dataframe.loc[dataframe[\"target\"] == \"50000+\", \"target\"] = \"1\"\n",
    "    return dataframe"
   ]
  },
  {
   "cell_type": "code",
   "execution_count": 6,
   "id": "92e02d7b-3c74-4f23-8153-74c95d790ac4",
   "metadata": {},
   "outputs": [],
   "source": [
    "def remap_cat_column(dataframe=None, column=\"\", remap={}):\n",
    "    return dataframe.replace({column:remap})"
   ]
  },
  {
   "cell_type": "code",
   "execution_count": 7,
   "id": "a0007145-0661-4c96-9333-0232aaa3e8fa",
   "metadata": {},
   "outputs": [],
   "source": [
    "def categorical_target_eda(dataframe=None, column=\"\", order=None, plot=True):\n",
    "    ct = pd.crosstab(dataframe[\"target\"], dataframe[column], normalize=\"index\")\n",
    "    if plot:\n",
    "        # display(ct)\n",
    "        g = sns.catplot(\n",
    "            x=column,\n",
    "            kind=\"count\",\n",
    "            col=\"target\",\n",
    "            order=order,\n",
    "            data=dataframe,\n",
    "            sharey=False,\n",
    "        )\n",
    "        g.set_xticklabels(rotation=60)\n",
    "    return ct.T"
   ]
  },
  {
   "cell_type": "code",
   "execution_count": 8,
   "id": "d93021e9-29be-49df-85a1-35c1a2831f39",
   "metadata": {},
   "outputs": [],
   "source": [
    "def engineer_nominal(dataframe=None, columns=None, threshold=0.01):\n",
    "    res = []\n",
    "    for column in columns:\n",
    "        remap = {}\n",
    "        ct = categorical_target_eda(dataframe=dataframe, column=column, plot=False)\n",
    "        s = ct[\"50000+\"] - ct[\"- 50000\"]\n",
    "        for category, value in zip(s.index, s):\n",
    "            if value > threshold:\n",
    "                remap[category] = \"gt\"\n",
    "            elif value < -threshold:\n",
    "                remap[category] = \"lt\"\n",
    "            else:\n",
    "                remap[category] = \"eq\"\n",
    "        res.append({column:remap})\n",
    "    return res"
   ]
  },
  {
   "cell_type": "code",
   "execution_count": 9,
   "id": "8952de5e-55d3-4def-889b-ffc91b431803",
   "metadata": {},
   "outputs": [],
   "source": [
    "def engineer_cat_columns(train_data=None, test_data=None, remaps=None, verbose=0):\n",
    "    # select float columns for concatenation\n",
    "    df_train_floats = train_data.select_dtypes(include=float)\n",
    "    df_test_floats = test_data.select_dtypes(include=float)\n",
    "    # initalize dataframes for concatenation\n",
    "    df_train_remap = pd.DataFrame()\n",
    "    df_test_remap = pd.DataFrame()\n",
    "    # loop through list of dictionaries and remap values in categorical columns\n",
    "    for remap in remaps:\n",
    "        # get column from dictionary\n",
    "        column = list(remap.keys())[0]\n",
    "        # remap train\n",
    "        df_train_temp = remap_cat_column(dataframe=train_data, column=column, remap=remap[column])\n",
    "        df_train_remap = pd.concat([df_train_remap, df_train_temp[column]], axis=1)\n",
    "        # remap test\n",
    "        df_test_temp = remap_cat_column(dataframe=test_data, column=column, remap=remap[column])\n",
    "        df_test_remap = pd.concat([df_test_remap, df_test_temp[column]], axis=1)\n",
    "    \n",
    "    df_train_remap = pd.concat([df_train_floats, df_train_remap, train_data[\"target\"]], axis=1)\n",
    "    df_test_remap = pd.concat([df_test_floats, df_test_remap, test_data[\"target\"]], axis=1)\n",
    "\n",
    "    if verbose > 0:\n",
    "        display(df_train_remap.describe(include=\"float\"))\n",
    "        display(df_train_remap.describe(include=\"object\"))\n",
    "    \n",
    "    return df_train_remap, df_test_remap"
   ]
  },
  {
   "cell_type": "code",
   "execution_count": 10,
   "id": "c021759a-7e15-4409-bb22-b7cc8dd6c885",
   "metadata": {},
   "outputs": [],
   "source": [
    "def fit_predict_train(X=None, y=None, model=None):\n",
    "    model.fit(X, y)\n",
    "    y_pred = model.predict(X)\n",
    "    yhat = model.predict_proba(X)\n",
    "    pos_probs = yhat[:, 1]\n",
    "\n",
    "    precision, recall, thresholds = precision_recall_curve(y.astype(int), pos_probs)\n",
    "    auc_score = auc(recall, precision)\n",
    "    print(f\"prauc: {auc_score}\")\n",
    "    print(classification_report(y, y_pred))\n",
    "    \n",
    "    return {\"y\":y, \"pos_probs\":pos_probs, \"precision\":precision, \"recall\":recall, \"thresholds\":thresholds}"
   ]
  },
  {
   "cell_type": "code",
   "execution_count": 11,
   "id": "e519b32f-7026-4c32-9d7f-3cff6530713c",
   "metadata": {},
   "outputs": [],
   "source": [
    "def predict_test(X=None, y=None, model=None):\n",
    "    y_pred = model.predict(X)\n",
    "    yhat = model.predict_proba(X)\n",
    "    pos_probs = yhat[:, 1]\n",
    "\n",
    "    precision, recall, thresholds = precision_recall_curve(y.astype(int), pos_probs)\n",
    "    auc_score = auc(recall, precision)\n",
    "    print(f\"prauc: {auc_score}\")\n",
    "    print(classification_report(y, y_pred))\n",
    "\n",
    "    return {\"y\":y, \"pos_probs\":pos_probs, \"precision\":precision, \"recall\":recall, \"thresholds\":thresholds}"
   ]
  },
  {
   "cell_type": "code",
   "execution_count": 12,
   "id": "4c595584-4992-4d99-b8f6-7cd97eae7b70",
   "metadata": {},
   "outputs": [],
   "source": [
    "def display_prcurve(pr_res={}, name=\"unlabeled model\", pos_label=None):\n",
    "    f1_scores = 2 * pr_res[\"recall\"] * pr_res[\"precision\"] / (pr_res[\"recall\"] + pr_res[\"precision\"])\n",
    "    \n",
    "    best_th_ix = np.nanargmax(f1_scores)\n",
    "    best_thresh = pr_res[\"thresholds\"][best_th_ix]\n",
    "    average_precision = average_precision_score(pr_res[\"y\"], pr_res[\"pos_probs\"], pos_label=pos_label)\n",
    "    disp = PrecisionRecallDisplay(\n",
    "        precision=pr_res[\"precision\"],\n",
    "        recall=pr_res[\"recall\"],\n",
    "        average_precision=average_precision,\n",
    "        estimator_name=name,\n",
    "        pos_label=pos_label\n",
    "    )\n",
    "    disp.plot(name=name)\n",
    "    disp.ax_.set_title(\"Test Data\")\n",
    "    disp.ax_.plot(pr_res[\"recall\"][best_th_ix], pr_res[\"precision\"][best_th_ix], \"ro\", label=f\"f1max (th = {best_thresh:.2f})\")\n",
    "    disp.ax_.legend()"
   ]
  },
  {
   "cell_type": "markdown",
   "id": "94f7fe84-808c-4822-9795-c7c1d51779d8",
   "metadata": {
    "jp-MarkdownHeadingCollapsed": true
   },
   "source": [
    "## Get input data"
   ]
  },
  {
   "cell_type": "code",
   "execution_count": 13,
   "id": "8fdc6483-094e-46d3-828f-ca3797af54bf",
   "metadata": {},
   "outputs": [],
   "source": [
    "df_train0 = pd.read_csv(\n",
    "    filepath_or_buffer=\"data/census_income_learn.csv\",\n",
    "    header=None).drop(24,axis=1)"
   ]
  },
  {
   "cell_type": "code",
   "execution_count": 14,
   "id": "2957917d-4f5f-4a9e-bfa0-675c9594fbe7",
   "metadata": {},
   "outputs": [],
   "source": [
    "df_test0 = pd.read_csv(\n",
    "    filepath_or_buffer=\"data/census_income_test.csv\",\n",
    "    header=None).drop(24,axis=1)"
   ]
  },
  {
   "cell_type": "code",
   "execution_count": 15,
   "id": "e1caed63-0171-4c02-96a8-1f4f7d0080d0",
   "metadata": {
    "jupyter": {
     "source_hidden": true
    }
   },
   "outputs": [],
   "source": [
    "data_info = [\n",
    "    \"|   91 distinct values for attribute #0 (age) continuous\",\n",
    "    \"|    9 distinct values for attribute #1 (class of worker) nominal\",\n",
    "    \"|   52 distinct values for attribute #2 (detailed industry recode) nominal\",\n",
    "    \"|   47 distinct values for attribute #3 (detailed occupation recode) nominal\",\n",
    "    \"|   17 distinct values for attribute #4 (education) nominal\",\n",
    "    \"| 1240 distinct values for attribute #5 (wage per hour) continuous\",\n",
    "    \"|    3 distinct values for attribute #6 (enroll in edu inst last wk) nominal\",\n",
    "    \"|    7 distinct values for attribute #7 (marital stat) nominal\",\n",
    "    \"|   24 distinct values for attribute #8 (major industry code) nominal\",\n",
    "    \"|   15 distinct values for attribute #9 (major occupation code) nominal\",\n",
    "    \"|    5 distinct values for attribute #10 (race) nominal\",\n",
    "    \"|   10 distinct values for attribute #11 (hispanic origin) nominal\",\n",
    "    \"|    2 distinct values for attribute #12 (sex) nominal\",\n",
    "    \"|    3 distinct values for attribute #13 (member of a labor union) nominal\",\n",
    "    \"|    6 distinct values for attribute #14 (reason for unemployment) nominal\",\n",
    "    \"|    8 distinct values for attribute #15 (full or part time employment stat) nominal\",\n",
    "    \"|  132 distinct values for attribute #16 (capital gains) continuous\",\n",
    "    \"|  113 distinct values for attribute #17 (capital losses) continuous\",\n",
    "    \"| 1478 distinct values for attribute #18 (dividends from stocks) continuous\",\n",
    "    \"|    6 distinct values for attribute #19 (tax filer stat) nominal\",\n",
    "    \"|    6 distinct values for attribute #20 (region of previous residence) nominal\",\n",
    "    \"|   51 distinct values for attribute #21 (state of previous residence) nominal\",\n",
    "    \"|   38 distinct values for attribute #22 (detailed household and family stat) nominal\",\n",
    "    \"|    8 distinct values for attribute #23 (detailed household summary in household) nominal\",\n",
    "    \"|   10 distinct values for attribute #24 (migration code-change in msa) nominal\",\n",
    "    \"|    9 distinct values for attribute #25 (migration code-change in reg) nominal\",\n",
    "    \"|   10 distinct values for attribute #26 (migration code-move within reg) nominal\",\n",
    "    \"|    3 distinct values for attribute #27 (live in this house 1 year ago) nominal\",\n",
    "    \"|    4 distinct values for attribute #28 (migration prev res in sunbelt) nominal\",\n",
    "    \"|    7 distinct values for attribute #29 (num persons worked for employer) continuous\",\n",
    "    \"|    5 distinct values for attribute #30 (family members under 18) nominal\",\n",
    "    \"|   43 distinct values for attribute #31 (country of birth father) nominal\",\n",
    "    \"|   43 distinct values for attribute #32 (country of birth mother) nominal\",\n",
    "    \"|   43 distinct values for attribute #33 (country of birth self) nominal\",\n",
    "    \"|    5 distinct values for attribute #34 (citizenship) nominal\",\n",
    "    \"|    3 distinct values for attribute #35 (own business or self employed) nominal\",\n",
    "    \"|    3 distinct values for attribute #36 (fill inc questionnaire for veteran's admin) nominal\",\n",
    "    \"|    3 distinct values for attribute #37 (veterans benefits) nominal\",\n",
    "    \"|   53 distinct values for attribute #38 (weeks worked in year) continuous\",\n",
    "    \"|    2 distinct values for attribute #39 (year) nominal\",\n",
    "]"
   ]
  },
  {
   "cell_type": "markdown",
   "id": "88c1fd32-354f-4540-b7a4-603027c609f9",
   "metadata": {
    "jp-MarkdownHeadingCollapsed": true
   },
   "source": [
    "## Clean data"
   ]
  },
  {
   "cell_type": "code",
   "execution_count": 16,
   "id": "807ed1ae-bf65-4e50-8dfc-2be9e0a97b44",
   "metadata": {},
   "outputs": [],
   "source": [
    "s_data_info = pd.Series(data_info)\\\n",
    "    .str.replace(\"|\", \"\")\\\n",
    "    .str.replace(\"distinct values for attribute #\", \",\")\\\n",
    "    .str.replace(\"(\", \",\")\\\n",
    "    .str.replace(\")\", \",\")\\\n",
    "    .str.replace(\"'\",\"\")\\\n",
    "    .str.strip()\n",
    "df_data_info = s_data_info.str.split(\",\", expand=True).drop(1,axis=1)\n",
    "df_data_info.columns = [\"nunique\", \"column_name\", \"column_type\"]\n",
    "df_data_info[\"nunique\"] = df_data_info[\"nunique\"].astype(int)\n",
    "df_data_info.loc[40] = [2, \"target\", \"nominal\"]\n",
    "df_data_info = df_data_info.map(lambda x: x.strip() if isinstance(x, str) else x)"
   ]
  },
  {
   "cell_type": "markdown",
   "id": "0f760877-c430-4b9f-a966-4b8169daa12f",
   "metadata": {},
   "source": [
    "#### train data clean\n",
    "- df_train1"
   ]
  },
  {
   "cell_type": "code",
   "execution_count": 17,
   "id": "dbca304a-0bf6-4ffe-95b5-951640c99e39",
   "metadata": {},
   "outputs": [
    {
     "name": "stdout",
     "output_type": "stream",
     "text": [
      "inital shape: (199523, 41)\n",
      "number of dups: 46627\n",
      "renaming columns\n",
      "\n",
      "shape after drop dups: (152896, 41)\n",
      "\n",
      "filter Children - target counts\n",
      "target\n",
      "- 50000    12710\n",
      "Name: count, dtype: int64\n",
      "\n",
      "shape after drop Children: (140186, 41)\n",
      "\n",
      "target distribution\n",
      "target\n",
      "- 50000    127819\n",
      "50000+      12367\n",
      "Name: count, dtype: int64\n"
     ]
    }
   ],
   "source": [
    "print(f\"inital shape: {df_train0.shape}\")\n",
    "print(f\"number of dups: {df_train0.duplicated().sum()}\") # different total than metadata file (46627 vs.46716)\n",
    "if (df_train0.nunique().reset_index(drop=True) == df_data_info[\"nunique\"]).all():\n",
    "    print(\"renaming columns\\n\")\n",
    "    df_train0.columns = df_data_info[\"column_name\"].tolist()\n",
    "df_train0 = df_train0.map(lambda x: x.strip() if isinstance(x, str) else x)\n",
    "df_train0[\"target\"] = df_train0[\"target\"].str.replace(\".\", \"\")\n",
    "\n",
    "# drop duplicate rows\n",
    "df_train1 = df_train0.drop_duplicates(ignore_index=True)\n",
    "print(f\"shape after drop dups: {df_train1.shape}\")\n",
    "\n",
    "# if edu is Children then target < 50k\n",
    "print(\"\\nfilter Children - target counts\")\n",
    "print(df_train1[df_train1[\"education\"]==\"Children\"][\"target\"].value_counts())\n",
    "\n",
    "df_train1 = df_train1[df_train1[\"education\"]!=\"Children\"].reset_index(drop=True)\n",
    "print(f\"\\nshape after drop Children: {df_train1.shape}\")\n",
    "# print(df_train1.duplicated().sum())\n",
    "\n",
    "df_info_train = append_anomaly_counts(df_info=df_data_info, dataframe=df_train1)\n",
    "\n",
    "print(\"\\ntarget distribution\")\n",
    "print(df_train1[\"target\"].value_counts())"
   ]
  },
  {
   "cell_type": "markdown",
   "id": "54330587-30c4-4523-ad57-85f226d79159",
   "metadata": {},
   "source": [
    "#### Test data clean\n",
    "- df_test1"
   ]
  },
  {
   "cell_type": "code",
   "execution_count": 18,
   "id": "88f6568e-a8c1-492a-b6a0-60d7821061cd",
   "metadata": {},
   "outputs": [
    {
     "name": "stdout",
     "output_type": "stream",
     "text": [
      "inital shape: (99762, 41)\n",
      "number of dups: 20898\n",
      "renaming columns\n",
      "\n",
      "shape after drop dups: (78864, 41)\n",
      "\n",
      "filter Children - target counts\n",
      "target\n",
      "- 50000    7264\n",
      "Name: count, dtype: int64\n",
      "\n",
      "shape after drop Children: (71600, 41)\n",
      "\n",
      "target distribution\n",
      "target\n",
      "- 50000    65414\n",
      "50000+      6186\n",
      "Name: count, dtype: int64\n"
     ]
    }
   ],
   "source": [
    "print(f\"inital shape: {df_test0.shape}\")\n",
    "print(f\"number of dups: {df_test0.duplicated().sum()}\")\n",
    "print(\"renaming columns\\n\")\n",
    "df_test0.columns = df_data_info[\"column_name\"].tolist()\n",
    "df_test0 = df_test0.map(lambda x: x.strip() if isinstance(x, str) else x)\n",
    "df_test0[\"target\"] = df_test0[\"target\"].str.replace(\".\", \"\")\n",
    "\n",
    "# drop duplicate rows\n",
    "df_test1 = df_test0.drop_duplicates(ignore_index=True)\n",
    "print(f\"shape after drop dups: {df_test1.shape}\")\n",
    "\n",
    "# if edu is Children then target < 50k\n",
    "print(\"\\nfilter Children - target counts\")\n",
    "print(df_test1[df_test1[\"education\"]==\"Children\"][\"target\"].value_counts())\n",
    "\n",
    "df_test1 = df_test1[df_test1[\"education\"]!=\"Children\"].reset_index(drop=True)\n",
    "print(f\"\\nshape after drop Children: {df_test1.shape}\")\n",
    "# print(df_test1.duplicated().sum())\n",
    "\n",
    "df_info_test = append_anomaly_counts(df_info=df_data_info, dataframe=df_test1)\n",
    "\n",
    "print(\"\\ntarget distribution\")\n",
    "print(df_test1[\"target\"].value_counts())"
   ]
  },
  {
   "cell_type": "markdown",
   "id": "f297262b-a471-4574-8445-c380c516e01d",
   "metadata": {},
   "source": [
    "## Feature engineering"
   ]
  },
  {
   "cell_type": "code",
   "execution_count": 19,
   "id": "4b24420b-4e66-4909-9904-532f4b5a36c8",
   "metadata": {},
   "outputs": [
    {
     "name": "stdout",
     "output_type": "stream",
     "text": [
      "nc_all--dataframe shape: 33 | result column size: 33\n",
      "nc_noUnknown--dataframe shape: 25 | result column size: 25\n",
      "nc_noNIU--dataframe shape: 21 | result column size: 21\n",
      "nc_noUnknownORnoNIU--dataframe shape: 15 | result column size: 15\n"
     ]
    }
   ],
   "source": [
    "# filter nominal columns and exclude target\n",
    "df_nominal = df_info_train[(df_info_train[\"column_type\"] == \"nominal\") & (df_info_train[\"column_name\"] != \"target\")]\n",
    "\n",
    "# filtered column lists - nominal columns (nc)\n",
    "nc_all = df_nominal[\"column_name\"].values\n",
    "nc_noUnknown = df_nominal[df_nominal[\"uknown_count\"] == 0][\"column_name\"].values\n",
    "nc_noNIU = df_nominal[df_nominal[\"NIU_count\"] == 0][\"column_name\"].values\n",
    "nc_noUnknownORnoNIU = df_nominal[(df_nominal[\"uknown_count\"] == 0) & (df_nominal[\"NIU_count\"] == 0)][\"column_name\"].values\n",
    "\n",
    "res_nc_all = engineer_nominal(dataframe=df_train1, columns=nc_all, threshold=0.01)\n",
    "print(f\"nc_all--dataframe shape: {nc_all.shape[0]} | result column size: {len(res_nc_all)}\")\n",
    "res_nc_noUnknown = engineer_nominal(dataframe=df_train1, columns=nc_noUnknown, threshold=0.01)\n",
    "print(f\"nc_noUnknown--dataframe shape: {nc_noUnknown.shape[0]} | result column size: {len(res_nc_noUnknown)}\")\n",
    "res_nc_noNIU = engineer_nominal(dataframe=df_train1, columns=nc_noNIU, threshold=0.01)\n",
    "print(f\"nc_noNIU--dataframe shape: {nc_noNIU.shape[0]} | result column size: {len(res_nc_noNIU)}\")\n",
    "res_nc_noUnknownORnoNIU = engineer_nominal(dataframe=df_train1, columns=nc_noUnknownORnoNIU, threshold=0.01)\n",
    "print(f\"nc_noUnknownORnoNIU--dataframe shape: {nc_noUnknownORnoNIU.shape[0]} | result column size: {len(res_nc_noUnknownORnoNIU)}\")"
   ]
  },
  {
   "cell_type": "markdown",
   "id": "6fa58a2c-e676-4156-b7f1-b3b6b60eb068",
   "metadata": {},
   "source": [
    "#### remap categories"
   ]
  },
  {
   "cell_type": "code",
   "execution_count": 20,
   "id": "4df30601-1f46-43ba-a8b4-a987d7300d69",
   "metadata": {},
   "outputs": [],
   "source": [
    "df_train_remap, df_test_remap = engineer_cat_columns(\n",
    "    train_data=df_train1,\n",
    "    test_data=df_test1,\n",
    "    remaps=res_nc_all,\n",
    "    verbose=0,\n",
    ")"
   ]
  },
  {
   "cell_type": "markdown",
   "id": "27675bb1-4a70-4d59-a244-4610ba0f0ea5",
   "metadata": {},
   "source": [
    "## Prepare model data"
   ]
  },
  {
   "cell_type": "code",
   "execution_count": 21,
   "id": "6559f027-3644-47ef-ac27-1ce4f8c67510",
   "metadata": {},
   "outputs": [],
   "source": [
    "df_train2 = change_target_value(dataframe=df_train_remap)\n",
    "df_test2 = change_target_value(dataframe=df_test_remap)"
   ]
  },
  {
   "cell_type": "code",
   "execution_count": 22,
   "id": "40eb62c3-8806-44dd-90e8-ed13b6ea4c56",
   "metadata": {},
   "outputs": [
    {
     "data": {
      "text/plain": [
       "target\n",
       "0    127819\n",
       "1     12367\n",
       "Name: count, dtype: int64"
      ]
     },
     "execution_count": 22,
     "metadata": {},
     "output_type": "execute_result"
    }
   ],
   "source": [
    "df_train2[\"target\"].value_counts()"
   ]
  },
  {
   "cell_type": "code",
   "execution_count": 23,
   "id": "cec9be2b-938f-4419-b0df-5875b4a2de65",
   "metadata": {},
   "outputs": [
    {
     "data": {
      "text/plain": [
       "target\n",
       "0    65414\n",
       "1     6186\n",
       "Name: count, dtype: int64"
      ]
     },
     "execution_count": 23,
     "metadata": {},
     "output_type": "execute_result"
    }
   ],
   "source": [
    "df_test2[\"target\"].value_counts()"
   ]
  },
  {
   "cell_type": "code",
   "execution_count": 24,
   "id": "9f8485ff-4a16-4882-9d9b-11b732f06f46",
   "metadata": {
    "jupyter": {
     "source_hidden": true
    }
   },
   "outputs": [],
   "source": [
    "# # BALANCE DATA - NOT USED YET...\n",
    "# df_class0 = df_train2[df_train2[\"target\"] == \"0\"]\n",
    "# df_class1 = df_train2[df_train2[\"target\"] == \"1\"]\n",
    "\n",
    "# df_class0_sample = df_class0.sample(n=df_class1.shape[0], random_state=42, axis=0)\n",
    "# df_train2 = pd.concat([df_class0_sample, df_class1], axis=0).sample(frac=1, random_state=42).reset_index(drop=True)"
   ]
  },
  {
   "cell_type": "code",
   "execution_count": 25,
   "id": "42e82e81-639b-41ca-bd9d-9fd0bf1ea70a",
   "metadata": {},
   "outputs": [],
   "source": [
    "X_train0 = df_train2.drop(\"target\", axis=1)\n",
    "y_train0 = df_train2[\"target\"]"
   ]
  },
  {
   "cell_type": "code",
   "execution_count": 26,
   "id": "ed855bf0-84b0-4b1a-b800-d2c051342339",
   "metadata": {},
   "outputs": [],
   "source": [
    "X_test0 = df_test2.drop(\"target\", axis=1)\n",
    "y_test0 = df_test2[\"target\"]"
   ]
  },
  {
   "cell_type": "code",
   "execution_count": 27,
   "id": "c3d0c65f-6d45-452d-8cfa-dc2c2337f23e",
   "metadata": {},
   "outputs": [
    {
     "name": "stdout",
     "output_type": "stream",
     "text": [
      "['reason for unemployment', 'family members under 18', 'fill inc questionnaire for veterans admin']\n"
     ]
    }
   ],
   "source": [
    "# drop bad features somehow passing MIC\n",
    "drop_cols = [\n",
    "    \"reason for unemployment\",\n",
    "    \"family members under 18\",\n",
    "    \"fill inc questionnaire for veterans admin\",\n",
    "]\n",
    "print(drop_cols)\n",
    "\n",
    "X_train0.drop(drop_cols, axis=1, inplace=True)\n",
    "X_test0.drop(drop_cols, axis=1, inplace=True)"
   ]
  },
  {
   "cell_type": "code",
   "execution_count": 28,
   "id": "3e08647b-4894-4a86-9ea8-ddb596f56a6f",
   "metadata": {},
   "outputs": [],
   "source": [
    "matching_cols = X_train0.select_dtypes(object).nunique() == X_test0.select_dtypes(object).nunique()\n",
    "cat_features = matching_cols[matching_cols==True].index.tolist()"
   ]
  },
  {
   "cell_type": "code",
   "execution_count": 29,
   "id": "6cc1a9e8-605a-4e1e-84c5-1e8b85fbea04",
   "metadata": {},
   "outputs": [
    {
     "name": "stdout",
     "output_type": "stream",
     "text": [
      "(140186, 86)\n",
      "(71600, 86)\n"
     ]
    }
   ],
   "source": [
    "num_features = [\n",
    "    \"age\",\n",
    "    \"dividends from stocks\",\n",
    "    \"num persons worked for employer\", ###\n",
    "    \"weeks worked in year\", ###\n",
    "]\n",
    "features = num_features + cat_features\n",
    "X_train1 = pd.get_dummies(X_train0.loc[:, features])\n",
    "X_test1 = pd.get_dummies(X_test0.loc[:, features])\n",
    "print(X_train1.shape)\n",
    "print(X_test1.shape)"
   ]
  },
  {
   "cell_type": "code",
   "execution_count": 30,
   "id": "15dc006a-e84a-40bb-8536-58b04aecbd70",
   "metadata": {},
   "outputs": [],
   "source": [
    "from sklearn.preprocessing import StandardScaler\n",
    "scalar = StandardScaler()\n",
    "scalar.fit(X_train1.loc[:, num_features])\n",
    "X_train1.loc[:, num_features] = scalar.transform(X_train1.loc[:, num_features])\n",
    "X_test1.loc[:, num_features] = scalar.transform(X_test1.loc[:, num_features])"
   ]
  },
  {
   "cell_type": "code",
   "execution_count": 32,
   "id": "48403da9-52ee-4b60-9548-b7fc1c9310de",
   "metadata": {},
   "outputs": [],
   "source": [
    "from sklearn.feature_selection import mutual_info_classif as MIC\n",
    "mi_score = MIC(X_train1, y_train0, random_state=42)"
   ]
  },
  {
   "cell_type": "code",
   "execution_count": 33,
   "id": "3f441800-fcea-4411-b898-44d4c548840a",
   "metadata": {},
   "outputs": [
    {
     "name": "stdout",
     "output_type": "stream",
     "text": [
      "(140186, 23)\n",
      "(71600, 23)\n"
     ]
    }
   ],
   "source": [
    "col_MIC_mask = mi_score > np.percentile(a=mi_score, q=75)\n",
    "selected_features = [\"num persons worked for employer\"] + X_train1.columns[col_MIC_mask].tolist()\n",
    "\n",
    "X_train2 = X_train1.loc[:, selected_features]\n",
    "X_test2 = X_test1.loc[:, selected_features]\n",
    "print(X_train2.shape)\n",
    "print(X_test2.shape)"
   ]
  },
  {
   "cell_type": "markdown",
   "id": "50d90b76-b5e4-42c9-82f6-6c10852df1fd",
   "metadata": {},
   "source": [
    "## Models"
   ]
  },
  {
   "cell_type": "markdown",
   "id": "16e5dac9-a89b-4870-b80b-b19ef765a585",
   "metadata": {},
   "source": [
    "Precision-Recall is a useful measure of success of prediction when the classes are very imbalanced.\n",
    "- high precision relates to a low `false positive rate`\n",
    "- high recall relates to a low `false negative rate`"
   ]
  },
  {
   "cell_type": "code",
   "execution_count": 34,
   "id": "f311238e-35ed-4861-ba76-503f71b0bca7",
   "metadata": {},
   "outputs": [
    {
     "data": {
      "text/plain": [
       "23"
      ]
     },
     "execution_count": 34,
     "metadata": {},
     "output_type": "execute_result"
    }
   ],
   "source": [
    "len(selected_features)"
   ]
  },
  {
   "cell_type": "markdown",
   "id": "a8c1f8b4-149b-42e8-b15f-389b15a0196c",
   "metadata": {},
   "source": [
    "### logistic regression - baseline model"
   ]
  },
  {
   "cell_type": "code",
   "execution_count": 35,
   "id": "418e93fb-1dcc-4d96-ac46-305aa98c344c",
   "metadata": {},
   "outputs": [],
   "source": [
    "from sklearn.metrics import accuracy_score, precision_recall_curve, PrecisionRecallDisplay, average_precision_score, auc, classification_report, confusion_matrix, ConfusionMatrixDisplay"
   ]
  },
  {
   "cell_type": "code",
   "execution_count": 36,
   "id": "ad40172e-396e-4762-8ab0-5c227794239e",
   "metadata": {},
   "outputs": [
    {
     "name": "stdout",
     "output_type": "stream",
     "text": [
      "Accuracy (Stratified Dummy Classifier): 0.8416480446927375\n",
      "\n",
      "Classification Report (Stratified Dummy Classifier):\n",
      "              precision    recall  f1-score   support\n",
      "\n",
      "           0       0.91      0.91      0.91     65414\n",
      "           1       0.09      0.09      0.09      6186\n",
      "\n",
      "    accuracy                           0.84     71600\n",
      "   macro avg       0.50      0.50      0.50     71600\n",
      "weighted avg       0.84      0.84      0.84     71600\n",
      "\n"
     ]
    }
   ],
   "source": [
    "from sklearn.dummy import DummyClassifier\n",
    "# Stratified dummy classifier\n",
    "stratified_dummy_clf = DummyClassifier(strategy='stratified', random_state=42)\n",
    "stratified_dummy_clf.fit(X_train2, y_train0)\n",
    "stratified_dummy_pred = stratified_dummy_clf.predict(X_test2)\n",
    "\n",
    "# Print accuracy scores\n",
    "print(\"Accuracy (Stratified Dummy Classifier):\", accuracy_score(y_test0, stratified_dummy_pred))\n",
    "\n",
    "# Print classification reports\n",
    "print(\"\\nClassification Report (Stratified Dummy Classifier):\")\n",
    "print(classification_report(y_test0, stratified_dummy_pred))"
   ]
  },
  {
   "cell_type": "code",
   "execution_count": 37,
   "id": "3a4087ab-b3a9-4ff2-9362-e3f2f3d50856",
   "metadata": {},
   "outputs": [],
   "source": [
    "from sklearn.linear_model import LogisticRegression\n",
    "\n",
    "model = LogisticRegression(\n",
    "    max_iter=10000,\n",
    "    class_weight=\"balanced\",\n",
    "    random_state=42\n",
    ")"
   ]
  },
  {
   "cell_type": "code",
   "execution_count": 38,
   "id": "a4a40f60-87c3-417f-9754-763eca23f496",
   "metadata": {},
   "outputs": [
    {
     "name": "stdout",
     "output_type": "stream",
     "text": [
      "TRAIN RESULTS\n",
      "prauc: 0.4899348731476387\n",
      "              precision    recall  f1-score   support\n",
      "\n",
      "           0       0.98      0.79      0.88    127819\n",
      "           1       0.28      0.83      0.42     12367\n",
      "\n",
      "    accuracy                           0.80    140186\n",
      "   macro avg       0.63      0.81      0.65    140186\n",
      "weighted avg       0.92      0.80      0.84    140186\n",
      "\n"
     ]
    }
   ],
   "source": [
    "print(\"TRAIN RESULTS\")\n",
    "train_res = fit_predict_train(X=X_train2, y=y_train0, model=model)"
   ]
  },
  {
   "cell_type": "code",
   "execution_count": 39,
   "id": "88c7df24-84df-4820-a8d4-b12370d7ad58",
   "metadata": {},
   "outputs": [
    {
     "name": "stdout",
     "output_type": "stream",
     "text": [
      "TEST RESULTS\n",
      "prauc: 0.49153804314712957\n",
      "              precision    recall  f1-score   support\n",
      "\n",
      "           0       0.98      0.80      0.88     65414\n",
      "           1       0.28      0.83      0.42      6186\n",
      "\n",
      "    accuracy                           0.80     71600\n",
      "   macro avg       0.63      0.81      0.65     71600\n",
      "weighted avg       0.92      0.80      0.84     71600\n",
      "\n"
     ]
    },
    {
     "data": {
      "image/png": "[encoded data removed]",
      "text/plain": [
       "<Figure size 640x480 with 1 Axes>"
      ]
     },
     "metadata": {},
     "output_type": "display_data"
    }
   ],
   "source": [
    "print(\"TEST RESULTS\")\n",
    "test_res_baseline = predict_test(X=X_test2, y=y_test0, model=model)\n",
    "display_prcurve(pr_res=test_res_baseline, name=\"LogReg\", pos_label=\"1\")"
   ]
  },
  {
   "cell_type": "code",
   "execution_count": 40,
   "id": "afa09281-9763-43f9-920b-1dc8300ad139",
   "metadata": {},
   "outputs": [],
   "source": [
    "y_pred = np.where(train_res[\"pos_probs\"] > 0.5, \"1\", \"0\")"
   ]
  },
  {
   "cell_type": "code",
   "execution_count": 41,
   "id": "3e9cf30e-070d-4360-9383-5344e20bcf1f",
   "metadata": {},
   "outputs": [
    {
     "data": {
      "text/plain": [
       "<sklearn.metrics._plot.confusion_matrix.ConfusionMatrixDisplay at 0x13fa19710>"
      ]
     },
     "execution_count": 41,
     "metadata": {},
     "output_type": "execute_result"
    },
    {
     "data": {
      "image/png": "[encoded data removed]",
      "text/plain": [
       "<Figure size 640x480 with 1 Axes>"
      ]
     },
     "metadata": {},
     "output_type": "display_data"
    }
   ],
   "source": [
    "disp = ConfusionMatrixDisplay(\n",
    "    confusion_matrix=confusion_matrix(y_train0, y_pred, labels=model.classes_),\n",
    "    display_labels=model.classes_\n",
    ")\n",
    "disp.plot(cmap=\"Blues\", values_format=\"\", colorbar=False)"
   ]
  },
  {
   "cell_type": "markdown",
   "id": "62c460c1-1b08-4ee1-a5f8-c204b47ed5e4",
   "metadata": {},
   "source": [
    "### Random Forest"
   ]
  },
  {
   "cell_type": "code",
   "execution_count": 42,
   "id": "95b9e078-0c5c-4d47-af43-0f8132b0d649",
   "metadata": {},
   "outputs": [],
   "source": [
    "from sklearn.ensemble import RandomForestClassifier\n",
    "\n",
    "model = RandomForestClassifier(\n",
    "    n_estimators=100,\n",
    "    max_depth=10,\n",
    "    min_samples_leaf=2,\n",
    "    max_features=0.3,\n",
    "    random_state=42,\n",
    "    class_weight=\"balanced\",\n",
    "    criterion=\"gini\"\n",
    ")"
   ]
  },
  {
   "cell_type": "code",
   "execution_count": 43,
   "id": "50735ae0-c3fb-4599-967a-6fb660b047ef",
   "metadata": {},
   "outputs": [
    {
     "name": "stdout",
     "output_type": "stream",
     "text": [
      "TRAIN RESULTS\n",
      "prauc: 0.5519507753540509\n",
      "              precision    recall  f1-score   support\n",
      "\n",
      "           0       0.98      0.84      0.90    127819\n",
      "           1       0.33      0.84      0.48     12367\n",
      "\n",
      "    accuracy                           0.84    140186\n",
      "   macro avg       0.66      0.84      0.69    140186\n",
      "weighted avg       0.92      0.84      0.87    140186\n",
      "\n"
     ]
    }
   ],
   "source": [
    "print(\"TRAIN RESULTS\")\n",
    "train_res = fit_predict_train(X=X_train2, y=y_train0, model=model)"
   ]
  },
  {
   "cell_type": "code",
   "execution_count": 44,
   "id": "14c670b4-206b-4925-aac3-3f262bd3899f",
   "metadata": {},
   "outputs": [
    {
     "name": "stdout",
     "output_type": "stream",
     "text": [
      "TEST RESULTS\n",
      "prauc: 0.5295765050649343\n",
      "              precision    recall  f1-score   support\n",
      "\n",
      "           0       0.98      0.84      0.90     65414\n",
      "           1       0.32      0.80      0.46      6186\n",
      "\n",
      "    accuracy                           0.84     71600\n",
      "   macro avg       0.65      0.82      0.68     71600\n",
      "weighted avg       0.92      0.84      0.86     71600\n",
      "\n"
     ]
    },
    {
     "data": {
      "image/png": "[encoded data removed]",
      "text/plain": [
       "<Figure size 640x480 with 1 Axes>"
      ]
     },
     "metadata": {},
     "output_type": "display_data"
    }
   ],
   "source": [
    "print(\"TEST RESULTS\")\n",
    "test_res_RF = predict_test(X=X_test2, y=y_test0, model=model)\n",
    "display_prcurve(pr_res=test_res_RF, name=\"RF\", pos_label=\"1\")"
   ]
  },
  {
   "cell_type": "markdown",
   "id": "45852e05-ae16-4246-8b19-adb236a40d4f",
   "metadata": {},
   "source": [
    "### MLP"
   ]
  },
  {
   "cell_type": "code",
   "execution_count": 45,
   "id": "9ee29c60-d3e3-4a3e-9d2e-d0fdbe2618a7",
   "metadata": {},
   "outputs": [],
   "source": [
    "from sklearn.neural_network import MLPClassifier\n",
    "\n",
    "model = MLPClassifier(\n",
    "    random_state=42,\n",
    "    max_iter=300\n",
    ")"
   ]
  },
  {
   "cell_type": "code",
   "execution_count": 46,
   "id": "825dc9f1-ce91-4186-b325-2cbea727228e",
   "metadata": {},
   "outputs": [
    {
     "name": "stdout",
     "output_type": "stream",
     "text": [
      "TRAIN RESULTS\n",
      "prauc: 0.5552647522469556\n",
      "              precision    recall  f1-score   support\n",
      "\n",
      "           0       0.94      0.98      0.96    127819\n",
      "           1       0.64      0.38      0.48     12367\n",
      "\n",
      "    accuracy                           0.93    140186\n",
      "   macro avg       0.79      0.68      0.72    140186\n",
      "weighted avg       0.92      0.93      0.92    140186\n",
      "\n"
     ]
    }
   ],
   "source": [
    "print(\"TRAIN RESULTS\")\n",
    "train_res = fit_predict_train(X=X_train2, y=y_train0, model=model)"
   ]
  },
  {
   "cell_type": "code",
   "execution_count": 47,
   "id": "153a0704-c8e1-4662-bcb9-94fba42ec8a1",
   "metadata": {},
   "outputs": [
    {
     "name": "stdout",
     "output_type": "stream",
     "text": [
      "TEST RESULTS\n",
      "prauc: 0.5451439662046278\n",
      "              precision    recall  f1-score   support\n",
      "\n",
      "           0       0.94      0.98      0.96     65414\n",
      "           1       0.64      0.38      0.48      6186\n",
      "\n",
      "    accuracy                           0.93     71600\n",
      "   macro avg       0.79      0.68      0.72     71600\n",
      "weighted avg       0.92      0.93      0.92     71600\n",
      "\n"
     ]
    },
    {
     "data": {
      "image/png": "[encoded data removed]",
      "text/plain": [
       "<Figure size 640x480 with 1 Axes>"
      ]
     },
     "metadata": {},
     "output_type": "display_data"
    }
   ],
   "source": [
    "print(\"TEST RESULTS\")\n",
    "test_res_MLP = predict_test(X=X_test2, y=y_test0, model=model)\n",
    "display_prcurve(pr_res=test_res_MLP, name=\"MLP\", pos_label=\"1\")"
   ]
  },
  {
   "cell_type": "markdown",
   "id": "e85e23c1-c772-441d-901c-7c5d254fa222",
   "metadata": {
    "jp-MarkdownHeadingCollapsed": true
   },
   "source": [
    "### KNN (overfit)"
   ]
  },
  {
   "cell_type": "code",
   "execution_count": null,
   "id": "8658f2d8-d4d1-441f-96e1-8168e1419e4f",
   "metadata": {},
   "outputs": [],
   "source": [
    "from sklearn.neighbors import KNeighborsClassifier"
   ]
  },
  {
   "cell_type": "code",
   "execution_count": null,
   "id": "8f57e4fd-843b-4fad-ae91-6c3348df4240",
   "metadata": {},
   "outputs": [],
   "source": [
    "model = KNeighborsClassifier(n_neighbors=3)\n",
    "model.fit(X_train1, y_train0)"
   ]
  },
  {
   "cell_type": "code",
   "execution_count": null,
   "id": "f8e82216-6eaa-4f73-a9e7-642c06cf0578",
   "metadata": {},
   "outputs": [],
   "source": [
    "y_pred = model.predict(X_train1)\n",
    "yhat = model.predict_proba(X_train1)\n",
    "pos_probs = yhat[:, 1]\n",
    "precision, recall, _ = precision_recall_curve(y_train0.astype(int).values, pos_probs)\n",
    "auc_score = auc(recall, precision)\n",
    "print(f\"prauc: {auc_score}\")\n",
    "# print(confusion_matrix(y_train0, y_pred))\n",
    "print(classification_report(y_train0, y_pred))"
   ]
  },
  {
   "cell_type": "code",
   "execution_count": null,
   "id": "7f4175c0-4863-4dd1-b517-a67e6333f4bd",
   "metadata": {},
   "outputs": [],
   "source": [
    "y_pred = model.predict(X_test1)\n",
    "yhat = model.predict_proba(X_test1)\n",
    "pos_probs = yhat[:, 1]\n",
    "precision, recall, _ = precision_recall_curve(y_test0.astype(int).values, pos_probs)\n",
    "auc_score = auc(recall, precision)\n",
    "print(f\"prauc: {auc_score}\")\n",
    "# print(confusion_matrix(y_test0, y_pred))\n",
    "print(classification_report(y_test0, y_pred))"
   ]
  },
  {
   "cell_type": "markdown",
   "id": "ddebc85f-5ba8-41df-8d97-532b5ab596d9",
   "metadata": {
    "jp-MarkdownHeadingCollapsed": true
   },
   "source": [
    "## Ensemble"
   ]
  },
  {
   "cell_type": "code",
   "execution_count": null,
   "id": "ded50131-ec75-477a-bb34-37660db596c6",
   "metadata": {},
   "outputs": [],
   "source": [
    "test_res_RF[\"pos_probs\"]"
   ]
  },
  {
   "cell_type": "code",
   "execution_count": null,
   "id": "02422d70-3bed-41a9-812a-66c0e640bf5b",
   "metadata": {},
   "outputs": [],
   "source": [
    "test_res_MLP[\"pos_probs\"]"
   ]
  },
  {
   "cell_type": "code",
   "execution_count": null,
   "id": "6c159e2f-fd76-4c83-82fb-fed1c56a5236",
   "metadata": {},
   "outputs": [],
   "source": [
    "display = PrecisionRecallDisplay.from_predictions(\n",
    "    test_res_RF[\"y\"].astype(int), pd.Series((test_res_RF[\"pos_probs\"] + test_res_MLP[\"pos_probs\"]) / 2, name=\"proba1_avg\"), name=\"ensemble\", plot_chance_level=True\n",
    ")\n",
    "_ = display.ax_.set_title(\"2-class Precision-Recall curve\")"
   ]
  },
  {
   "cell_type": "markdown",
   "id": "453b583f-9a98-493a-85bc-b9d506e2ea69",
   "metadata": {},
   "source": [
    "## Single category column EDA"
   ]
  },
  {
   "cell_type": "code",
   "execution_count": 48,
   "id": "d18604d7-ca52-45a9-a208-781c203a6c2b",
   "metadata": {},
   "outputs": [
    {
     "data": {
      "text/plain": [
       "0                             class of worker\n",
       "1                    detailed industry recode\n",
       "2                  detailed occupation recode\n",
       "3                                   education\n",
       "4                                marital stat\n",
       "5                         major industry code\n",
       "6                       major occupation code\n",
       "7                             hispanic origin\n",
       "8                                         sex\n",
       "9           full or part time employment stat\n",
       "10                             tax filer stat\n",
       "11         detailed household and family stat\n",
       "12    detailed household summary in household\n",
       "dtype: object"
      ]
     },
     "execution_count": 48,
     "metadata": {},
     "output_type": "execute_result"
    }
   ],
   "source": [
    "selected_features_series = pd.Series(selected_features)\n",
    "cols = selected_features_series[selected_features_series.str.contains(\"_\")].str.split(\"_\").str[0].unique()\n",
    "pd.Series(cols)"
   ]
  },
  {
   "cell_type": "code",
   "execution_count": 49,
   "id": "3b4ed859-f412-4970-b96a-31741ce3864e",
   "metadata": {},
   "outputs": [
    {
     "name": "stdout",
     "output_type": "stream",
     "text": [
      "parent column: class of worker\n",
      "\n",
      "TRAIN DATA: 140186\n"
     ]
    },
    {
     "data": {
      "text/html": [
       "<div>\n",
       "<style scoped>\n",
       "    .dataframe tbody tr th:only-of-type {\n",
       "        vertical-align: middle;\n",
       "    }\n",
       "\n",
       "    .dataframe tbody tr th {\n",
       "        vertical-align: top;\n",
       "    }\n",
       "\n",
       "    .dataframe thead th {\n",
       "        text-align: right;\n",
       "    }\n",
       "</style>\n",
       "<table border=\"1\" class=\"dataframe\">\n",
       "  <thead>\n",
       "    <tr style=\"text-align: right;\">\n",
       "      <th>class of worker</th>\n",
       "      <th>lt</th>\n",
       "      <th>eq</th>\n",
       "      <th>gt</th>\n",
       "    </tr>\n",
       "    <tr>\n",
       "      <th>target</th>\n",
       "      <th></th>\n",
       "      <th></th>\n",
       "      <th></th>\n",
       "    </tr>\n",
       "  </thead>\n",
       "  <tbody>\n",
       "    <tr>\n",
       "      <th>- 50000</th>\n",
       "      <td>0.317285</td>\n",
       "      <td>0.033477</td>\n",
       "      <td>0.649238</td>\n",
       "    </tr>\n",
       "    <tr>\n",
       "      <th>50000+</th>\n",
       "      <td>0.072774</td>\n",
       "      <td>0.039460</td>\n",
       "      <td>0.887766</td>\n",
       "    </tr>\n",
       "  </tbody>\n",
       "</table>\n",
       "</div>"
      ],
      "text/plain": [
       "class of worker        lt        eq        gt\n",
       "target                                       \n",
       "- 50000          0.317285  0.033477  0.649238\n",
       "50000+           0.072774  0.039460  0.887766"
      ]
     },
     "metadata": {},
     "output_type": "display_data"
    },
    {
     "name": "stdout",
     "output_type": "stream",
     "text": [
      "\n",
      "TEST DATA: 71600\n"
     ]
    },
    {
     "data": {
      "text/html": [
       "<div>\n",
       "<style scoped>\n",
       "    .dataframe tbody tr th:only-of-type {\n",
       "        vertical-align: middle;\n",
       "    }\n",
       "\n",
       "    .dataframe tbody tr th {\n",
       "        vertical-align: top;\n",
       "    }\n",
       "\n",
       "    .dataframe thead th {\n",
       "        text-align: right;\n",
       "    }\n",
       "</style>\n",
       "<table border=\"1\" class=\"dataframe\">\n",
       "  <thead>\n",
       "    <tr style=\"text-align: right;\">\n",
       "      <th>class of worker</th>\n",
       "      <th>lt</th>\n",
       "      <th>eq</th>\n",
       "      <th>gt</th>\n",
       "    </tr>\n",
       "    <tr>\n",
       "      <th>target</th>\n",
       "      <th></th>\n",
       "      <th></th>\n",
       "      <th></th>\n",
       "    </tr>\n",
       "  </thead>\n",
       "  <tbody>\n",
       "    <tr>\n",
       "      <th>- 50000</th>\n",
       "      <td>0.330724</td>\n",
       "      <td>0.033051</td>\n",
       "      <td>0.636225</td>\n",
       "    </tr>\n",
       "    <tr>\n",
       "      <th>50000+</th>\n",
       "      <td>0.071937</td>\n",
       "      <td>0.042677</td>\n",
       "      <td>0.885386</td>\n",
       "    </tr>\n",
       "  </tbody>\n",
       "</table>\n",
       "</div>"
      ],
      "text/plain": [
       "class of worker        lt        eq        gt\n",
       "target                                       \n",
       "- 50000          0.330724  0.033051  0.636225\n",
       "50000+           0.071937  0.042677  0.885386"
      ]
     },
     "metadata": {},
     "output_type": "display_data"
    },
    {
     "name": "stdout",
     "output_type": "stream",
     "text": [
      "3    class of worker_gt\n",
      "dtype: object\n"
     ]
    },
    {
     "data": {
      "image/png": "[encoded data removed]",
      "text/plain": [
       "<Figure size 1011.11x500 with 2 Axes>"
      ]
     },
     "metadata": {},
     "output_type": "display_data"
    },
    {
     "data": {
      "image/png": "[encoded data removed]",
      "text/plain": [
       "<Figure size 1011.11x500 with 2 Axes>"
      ]
     },
     "metadata": {},
     "output_type": "display_data"
    }
   ],
   "source": [
    "n=0\n",
    "for col in cols[n:n+1]:\n",
    "    print(f\"parent column: {col}\\n\")\n",
    "    ct = categorical_target_eda(dataframe=df_train1, column=col, plot=False)\n",
    "    s = ct[\"50000+\"] - ct[\"- 50000\"]\n",
    "    \n",
    "    remap = {}\n",
    "    threshold = 0.01\n",
    "    for category, value in zip(s.index, s):\n",
    "        if value > threshold:\n",
    "            remap[category] = \"gt\"\n",
    "        elif value < -threshold:\n",
    "            remap[category] = \"lt\"\n",
    "        else:\n",
    "            remap[category] = \"eq\"\n",
    "    \n",
    "    df_train_remap = remap_cat_column(dataframe=df_train1, column=col, remap=remap)\n",
    "    ct = categorical_target_eda(dataframe=df_train_remap, column=col, order=[\"lt\", \"eq\", \"gt\"], plot=True)\n",
    "    print(f\"TRAIN DATA: {df_train1.shape[0]}\")\n",
    "    display(ct.T.loc[:, [\"lt\", \"eq\", \"gt\"]])\n",
    "    \n",
    "    df_test_remap = remap_cat_column(dataframe=df_test1, column=col, remap=remap)\n",
    "    ct = categorical_target_eda(dataframe=df_test_remap, column=col, order=[\"lt\", \"eq\", \"gt\"], plot=True)\n",
    "    print(f\"\\nTEST DATA: {df_test1.shape[0]}\")\n",
    "    display(ct.T.loc[:, [\"lt\", \"eq\", \"gt\"]])\n",
    "\n",
    "    print(selected_features_series[selected_features_series.str.contains(col)])"
   ]
  },
  {
   "cell_type": "markdown",
   "id": "82276540-1657-4229-b699-2f01ed1b605f",
   "metadata": {},
   "source": [
    "- reason for unemployment\n",
    "- family members under 18\n",
    "- fill inc questionnaire for veterans admin"
   ]
  },
  {
   "cell_type": "markdown",
   "id": "76b2ebd8-2173-4948-b764-070bc041e5e2",
   "metadata": {},
   "source": [
    "## EDA"
   ]
  },
  {
   "cell_type": "markdown",
   "id": "c5b527e1-bc86-4c49-a7a8-9fff52294c53",
   "metadata": {},
   "source": [
    "### descriptive statistics"
   ]
  },
  {
   "cell_type": "code",
   "execution_count": null,
   "id": "9a564945-74e6-4721-8059-9744072c5a4f",
   "metadata": {},
   "outputs": [],
   "source": [
    "df_train1.describe()"
   ]
  },
  {
   "cell_type": "code",
   "execution_count": null,
   "id": "b302521b-b93d-4cfb-b01d-a121aaedf1ed",
   "metadata": {},
   "outputs": [],
   "source": [
    "df_train1.describe(include=\"object\")"
   ]
  },
  {
   "cell_type": "markdown",
   "id": "eaa8c7bd-a2ec-4a48-b9da-96647eabf921",
   "metadata": {},
   "source": [
    "### plot categorical distributions"
   ]
  },
  {
   "cell_type": "code",
   "execution_count": null,
   "id": "0883966a-ca2b-4151-a7e9-9d229efd48a2",
   "metadata": {
    "scrolled": true
   },
   "outputs": [],
   "source": [
    "df_info_train"
   ]
  },
  {
   "cell_type": "code",
   "execution_count": null,
   "id": "ba0ccfb2-5fea-498d-8130-ed01fa7e78ca",
   "metadata": {},
   "outputs": [],
   "source": [
    "cat_cols = df_train1.select_dtypes(include='object')\n",
    "cat_cols.columns"
   ]
  },
  {
   "cell_type": "code",
   "execution_count": null,
   "id": "1de00c61-ef4b-4ac6-8c64-c37d1ad5f13c",
   "metadata": {},
   "outputs": [],
   "source": [
    "for col in cat_cols:\n",
    "    n = df_train1[col].nunique()\n",
    "    if n <= 22:\n",
    "        sns.countplot(\n",
    "            y=col,\n",
    "            data=df_train1,\n",
    "            hue=col,\n",
    "            palette=sns.color_palette(palette=\"colorblind\", n_colors=n),\n",
    "            legend=False\n",
    "        )\n",
    "        plt.show()"
   ]
  },
  {
   "cell_type": "code",
   "execution_count": null,
   "id": "866ca818-632e-4ccc-a8a4-d58a36d959ec",
   "metadata": {},
   "outputs": [],
   "source": [
    "for col in cat_cols:\n",
    "    n = df_test1[col].nunique()\n",
    "    if n <= 22:\n",
    "        sns.countplot(\n",
    "            y=col,\n",
    "            data=df_train1,\n",
    "            hue=col,\n",
    "            palette=sns.color_palette(palette=\"colorblind\", n_colors=n),\n",
    "            legend=False\n",
    "        )\n",
    "        plt.show()"
   ]
  },
  {
   "cell_type": "markdown",
   "id": "51916c8a-bbb7-4237-8485-6496589e75bf",
   "metadata": {},
   "source": [
    "### slice target by categorical features"
   ]
  },
  {
   "cell_type": "code",
   "execution_count": 50,
   "id": "79591ccd-f6d5-4e82-a259-e547e000f4de",
   "metadata": {},
   "outputs": [
    {
     "data": {
      "text/html": [
       "<div>\n",
       "<style scoped>\n",
       "    .dataframe tbody tr th:only-of-type {\n",
       "        vertical-align: middle;\n",
       "    }\n",
       "\n",
       "    .dataframe tbody tr th {\n",
       "        vertical-align: top;\n",
       "    }\n",
       "\n",
       "    .dataframe thead th {\n",
       "        text-align: right;\n",
       "    }\n",
       "</style>\n",
       "<table border=\"1\" class=\"dataframe\">\n",
       "  <thead>\n",
       "    <tr style=\"text-align: right;\">\n",
       "      <th>detailed household summary in household</th>\n",
       "      <th>Child 18 or older</th>\n",
       "      <th>Child under 18 ever married</th>\n",
       "      <th>Child under 18 never married</th>\n",
       "      <th>Group Quarters- Secondary individual</th>\n",
       "      <th>Householder</th>\n",
       "      <th>Nonrelative of householder</th>\n",
       "      <th>Other relative of householder</th>\n",
       "      <th>Spouse of householder</th>\n",
       "    </tr>\n",
       "    <tr>\n",
       "      <th>target</th>\n",
       "      <th></th>\n",
       "      <th></th>\n",
       "      <th></th>\n",
       "      <th></th>\n",
       "      <th></th>\n",
       "      <th></th>\n",
       "      <th></th>\n",
       "      <th></th>\n",
       "    </tr>\n",
       "  </thead>\n",
       "  <tbody>\n",
       "    <tr>\n",
       "      <th>- 50000</th>\n",
       "      <td>0.106346</td>\n",
       "      <td>0.00036</td>\n",
       "      <td>0.038828</td>\n",
       "      <td>0.001025</td>\n",
       "      <td>0.486000</td>\n",
       "      <td>0.049179</td>\n",
       "      <td>0.045369</td>\n",
       "      <td>0.272894</td>\n",
       "    </tr>\n",
       "    <tr>\n",
       "      <th>50000+</th>\n",
       "      <td>0.010188</td>\n",
       "      <td>0.00000</td>\n",
       "      <td>0.000162</td>\n",
       "      <td>0.000081</td>\n",
       "      <td>0.779494</td>\n",
       "      <td>0.018921</td>\n",
       "      <td>0.006954</td>\n",
       "      <td>0.184200</td>\n",
       "    </tr>\n",
       "  </tbody>\n",
       "</table>\n",
       "</div>"
      ],
      "text/plain": [
       "detailed household summary in household  Child 18 or older  \\\n",
       "target                                                       \n",
       "- 50000                                           0.106346   \n",
       "50000+                                            0.010188   \n",
       "\n",
       "detailed household summary in household  Child under 18 ever married  \\\n",
       "target                                                                 \n",
       "- 50000                                                      0.00036   \n",
       "50000+                                                       0.00000   \n",
       "\n",
       "detailed household summary in household  Child under 18 never married  \\\n",
       "target                                                                  \n",
       "- 50000                                                      0.038828   \n",
       "50000+                                                       0.000162   \n",
       "\n",
       "detailed household summary in household  Group Quarters- Secondary individual  \\\n",
       "target                                                                          \n",
       "- 50000                                                              0.001025   \n",
       "50000+                                                               0.000081   \n",
       "\n",
       "detailed household summary in household  Householder  \\\n",
       "target                                                 \n",
       "- 50000                                     0.486000   \n",
       "50000+                                      0.779494   \n",
       "\n",
       "detailed household summary in household  Nonrelative of householder  \\\n",
       "target                                                                \n",
       "- 50000                                                    0.049179   \n",
       "50000+                                                     0.018921   \n",
       "\n",
       "detailed household summary in household  Other relative of householder  \\\n",
       "target                                                                   \n",
       "- 50000                                                       0.045369   \n",
       "50000+                                                        0.006954   \n",
       "\n",
       "detailed household summary in household  Spouse of householder  \n",
       "target                                                          \n",
       "- 50000                                               0.272894  \n",
       "50000+                                                0.184200  "
      ]
     },
     "metadata": {},
     "output_type": "display_data"
    },
    {
     "data": {
      "text/plain": [
       "<seaborn.axisgrid.FacetGrid at 0x140174290>"
      ]
     },
     "execution_count": 50,
     "metadata": {},
     "output_type": "execute_result"
    },
    {
     "data": {
      "image/png": "[encoded data removed]",
      "text/plain": [
       "<Figure size 1011.11x500 with 2 Axes>"
      ]
     },
     "metadata": {},
     "output_type": "display_data"
    }
   ],
   "source": [
    "col = \"detailed household summary in household\"\n",
    "display(pd.crosstab(df_train1['target'], df_train1[col], normalize='index'))\n",
    "\n",
    "g = sns.catplot(x = col, kind='count', col = 'target', data=df_train1, sharey=False)\n",
    "g.set_xticklabels(rotation=90)"
   ]
  },
  {
   "cell_type": "code",
   "execution_count": null,
   "id": "359a4206-cfc7-4ec9-80f7-acf148b33c32",
   "metadata": {},
   "outputs": [],
   "source": [
    "for col in cat_cols:\n",
    "    if df_train1[col].nunique() <=4:\n",
    "        display(pd.crosstab(df_train1['target'], df_train1[col], normalize='index'))"
   ]
  },
  {
   "cell_type": "code",
   "execution_count": null,
   "id": "cf5fd4e4-a8e8-4b6e-9859-30c3427f36b3",
   "metadata": {
    "scrolled": true
   },
   "outputs": [],
   "source": [
    "for col in cat_cols:\n",
    "    if df_train1[col].nunique() <= 4:\n",
    "        g = sns.catplot(x = col, kind='count', col = 'target', data=df_train1, sharey=False)\n",
    "        g.set_xticklabels(rotation=60)"
   ]
  },
  {
   "cell_type": "markdown",
   "id": "d52e6978-498c-4203-b703-057499799eb5",
   "metadata": {},
   "source": [
    "### slice target by numerical features"
   ]
  },
  {
   "cell_type": "code",
   "execution_count": null,
   "id": "b874e8c0-dece-4d2f-ad4a-522ac6d32316",
   "metadata": {},
   "outputs": [],
   "source": [
    "num_cols = df_train1.select_dtypes(float).columns.values"
   ]
  },
  {
   "cell_type": "code",
   "execution_count": null,
   "id": "ea8ed41b-2395-45d9-83da-b61bd0d6514d",
   "metadata": {},
   "outputs": [],
   "source": [
    "for col in num_cols:\n",
    "    df_train1[col].hist(bins=20)\n",
    "    print(col)\n",
    "    plt.show()"
   ]
  },
  {
   "cell_type": "code",
   "execution_count": null,
   "id": "b355a4ef-2e1c-41d5-a31f-580ce0503505",
   "metadata": {},
   "outputs": [],
   "source": [
    "for col in num_cols:\n",
    "    sns.boxplot(\n",
    "        y=df_train1['target'].astype('category'),\n",
    "        hue=df_train1['target'].astype('category'),\n",
    "        x=col,\n",
    "        data=df_train1,\n",
    "        palette=sns.color_palette(palette=\"colorblind\", n_colors=2)\n",
    "    )\n",
    "    plt.show()"
   ]
  },
  {
   "cell_type": "markdown",
   "id": "28709db7-22cb-4ff0-93b3-11ebceb0e353",
   "metadata": {},
   "source": [
    "### Group numerical features (mean) by categorical features"
   ]
  },
  {
   "cell_type": "code",
   "execution_count": null,
   "id": "0999ff13-5ed5-4ab5-9fa6-12f124dac44a",
   "metadata": {},
   "outputs": [],
   "source": [
    "for col in cat_cols:\n",
    "    if df_train1[col].nunique() <= 3:\n",
    "        display(df_train1.groupby(col)[num_cols].mean())"
   ]
  },
  {
   "cell_type": "markdown",
   "id": "891ac562-7b8f-4370-acbb-1df47adfdc86",
   "metadata": {},
   "source": [
    "### Correlation matrix for numerical features"
   ]
  },
  {
   "cell_type": "code",
   "execution_count": null,
   "id": "95aa5f85-4b94-4d84-b75b-895be38e52bd",
   "metadata": {},
   "outputs": [],
   "source": [
    "corr = df_train1.select_dtypes(float).corr()\n",
    "corr"
   ]
  },
  {
   "cell_type": "code",
   "execution_count": null,
   "id": "ef70d738-0a2f-46e5-824c-a68cc2a18373",
   "metadata": {},
   "outputs": [],
   "source": [
    "plt.figure(figsize=(6,6))\n",
    "sns.heatmap(corr, cmap='RdBu_r', annot=True, vmax=1, vmin=-1)\n",
    "plt.show()"
   ]
  },
  {
   "cell_type": "code",
   "execution_count": null,
   "id": "75a2b79a-ae27-46d4-97e8-53636f1e9cbf",
   "metadata": {},
   "outputs": [],
   "source": []
  }
 ],
 "metadata": {
  "kernelspec": {
   "display_name": "Python 3 (ipykernel)",
   "language": "python",
   "name": "python3"
  },
  "language_info": {
   "codemirror_mode": {
    "name": "ipython",
    "version": 3
   },
   "file_extension": ".py",
   "mimetype": "text/x-python",
   "name": "python",
   "nbconvert_exporter": "python",
   "pygments_lexer": "ipython3",
   "version": "3.11.9"
  }
 },
 "nbformat": 4,
 "nbformat_minor": 5
}
