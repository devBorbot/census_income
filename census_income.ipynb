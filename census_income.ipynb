{
 "cells": [
  {
   "cell_type": "code",
   "execution_count": null,
   "id": "ed119cef-a5f1-44fc-8916-a1b3f20a7ec9",
   "metadata": {},
   "outputs": [],
   "source": [
    "import pandas as pd\n",
    "import numpy as np\n",
    "import seaborn as sns\n",
    "import matplotlib.pyplot as plt\n",
    "\n",
    "pd.options.display.max_columns = None\n",
    "pd.set_option('display.max_colwidth', None)\n",
    "from IPython.display import display, HTML\n",
    "display(HTML(\"<style>:root { --jp-notebook-max-width: 100% !important; }</style>\"))"
   ]
  },
  {
   "cell_type": "code",
   "execution_count": null,
   "id": "fde4d2c9-233c-490b-b3d5-2c15da028eb0",
   "metadata": {},
   "outputs": [],
   "source": [
    "!ls data/"
   ]
  },
  {
   "cell_type": "code",
   "execution_count": null,
   "id": "a219baa2-81c2-409f-8d85-ac16aa8ea730",
   "metadata": {},
   "outputs": [],
   "source": [
    "!ls sup_info/"
   ]
  },
  {
   "cell_type": "markdown",
   "id": "3e5190e7-b190-4187-a3d9-894090312d3a",
   "metadata": {
    "jp-MarkdownHeadingCollapsed": true
   },
   "source": [
    "## Functions"
   ]
  },
  {
   "cell_type": "code",
   "execution_count": null,
   "id": "055c72e6-098a-45c6-9725-5fba415467ef",
   "metadata": {},
   "outputs": [],
   "source": [
    "# created append_anomaly_counts function to get anomaly counts with different datasets & slices\n",
    "def append_anomaly_counts(df_info=None, dataframe=None, col_suffix=\"\"):\n",
    "    res = []\n",
    "    df_info[\"nunique\"] = dataframe.nunique().values\n",
    "    df_info[\"uknown_count\"] = dataframe.eq(\"?\").sum().values\n",
    "    for idx, row in df_info.iterrows():\n",
    "        column = row[\"column_name\"]\n",
    "        if row[\"column_type\"] == \"continuous\":\n",
    "            dataframe[column] = dataframe[column].astype(float)\n",
    "            res.append({\"column_name\":column, \"NIU_count\":0})\n",
    "        else:\n",
    "            dataframe[column] = dataframe[column].astype(str)\n",
    "            dataframe_NIU_mask = dataframe[column].str.contains(\"Not in universe\")\n",
    "            if dataframe_NIU_mask.any():\n",
    "                dataframe_NIU_uval = dataframe[column][dataframe_NIU_mask].unique().item()\n",
    "                NIU_count = dataframe[dataframe[column] == dataframe_NIU_uval].shape[0]\n",
    "                res.append({\"column_name\":column, \"NIU_count\":NIU_count})\n",
    "            else:\n",
    "                res.append({\"column_name\":column, \"NIU_count\":0})\n",
    "    # matching nominal column sanity check\n",
    "    if (df_info[df_info[\"column_type\"]==\"nominal\"][\"column_name\"].values == dataframe.select_dtypes(object).columns).all():\n",
    "        df_info = pd.concat([df_info, pd.DataFrame(res)[\"NIU_count\"]], axis=1)\n",
    "        df_info = df_info.assign(row_count=dataframe.shape[0])\n",
    "    return df_info"
   ]
  },
  {
   "cell_type": "code",
   "execution_count": null,
   "id": "936df00c-3805-4ffd-8d67-6d61eaf63c74",
   "metadata": {},
   "outputs": [],
   "source": [
    "def change_target_value(dataframe=None):\n",
    "    dataframe.loc[dataframe[\"target\"] == \"- 50000\", \"target\"] = 0\n",
    "    dataframe.loc[dataframe[\"target\"] == \"50000+\", \"target\"] = 1\n",
    "    return dataframe"
   ]
  },
  {
   "cell_type": "markdown",
   "id": "94f7fe84-808c-4822-9795-c7c1d51779d8",
   "metadata": {
    "jp-MarkdownHeadingCollapsed": true
   },
   "source": [
    "## Get input data"
   ]
  },
  {
   "cell_type": "code",
   "execution_count": null,
   "id": "8fdc6483-094e-46d3-828f-ca3797af54bf",
   "metadata": {},
   "outputs": [],
   "source": [
    "df_train = pd.read_csv(\n",
    "    filepath_or_buffer=\"data/census_income_learn.csv\",\n",
    "    header=None).drop(24,axis=1)"
   ]
  },
  {
   "cell_type": "code",
   "execution_count": null,
   "id": "2957917d-4f5f-4a9e-bfa0-675c9594fbe7",
   "metadata": {},
   "outputs": [],
   "source": [
    "df_test = pd.read_csv(\n",
    "    filepath_or_buffer=\"data/census_income_test.csv\",\n",
    "    header=None).drop(24,axis=1)"
   ]
  },
  {
   "cell_type": "code",
   "execution_count": null,
   "id": "e1caed63-0171-4c02-96a8-1f4f7d0080d0",
   "metadata": {},
   "outputs": [],
   "source": [
    "data_info = [\n",
    "    \"|   91 distinct values for attribute #0 (age) continuous\",\n",
    "    \"|    9 distinct values for attribute #1 (class of worker) nominal\",\n",
    "    \"|   52 distinct values for attribute #2 (detailed industry recode) nominal\",\n",
    "    \"|   47 distinct values for attribute #3 (detailed occupation recode) nominal\",\n",
    "    \"|   17 distinct values for attribute #4 (education) nominal\",\n",
    "    \"| 1240 distinct values for attribute #5 (wage per hour) continuous\",\n",
    "    \"|    3 distinct values for attribute #6 (enroll in edu inst last wk) nominal\",\n",
    "    \"|    7 distinct values for attribute #7 (marital stat) nominal\",\n",
    "    \"|   24 distinct values for attribute #8 (major industry code) nominal\",\n",
    "    \"|   15 distinct values for attribute #9 (major occupation code) nominal\",\n",
    "    \"|    5 distinct values for attribute #10 (race) nominal\",\n",
    "    \"|   10 distinct values for attribute #11 (hispanic origin) nominal\",\n",
    "    \"|    2 distinct values for attribute #12 (sex) nominal\",\n",
    "    \"|    3 distinct values for attribute #13 (member of a labor union) nominal\",\n",
    "    \"|    6 distinct values for attribute #14 (reason for unemployment) nominal\",\n",
    "    \"|    8 distinct values for attribute #15 (full or part time employment stat) nominal\",\n",
    "    \"|  132 distinct values for attribute #16 (capital gains) continuous\",\n",
    "    \"|  113 distinct values for attribute #17 (capital losses) continuous\",\n",
    "    \"| 1478 distinct values for attribute #18 (dividends from stocks) continuous\",\n",
    "    \"|    6 distinct values for attribute #19 (tax filer stat) nominal\",\n",
    "    \"|    6 distinct values for attribute #20 (region of previous residence) nominal\",\n",
    "    \"|   51 distinct values for attribute #21 (state of previous residence) nominal\",\n",
    "    \"|   38 distinct values for attribute #22 (detailed household and family stat) nominal\",\n",
    "    \"|    8 distinct values for attribute #23 (detailed household summary in household) nominal\",\n",
    "    \"|   10 distinct values for attribute #24 (migration code-change in msa) nominal\",\n",
    "    \"|    9 distinct values for attribute #25 (migration code-change in reg) nominal\",\n",
    "    \"|   10 distinct values for attribute #26 (migration code-move within reg) nominal\",\n",
    "    \"|    3 distinct values for attribute #27 (live in this house 1 year ago) nominal\",\n",
    "    \"|    4 distinct values for attribute #28 (migration prev res in sunbelt) nominal\",\n",
    "    \"|    7 distinct values for attribute #29 (num persons worked for employer) continuous\",\n",
    "    \"|    5 distinct values for attribute #30 (family members under 18) nominal\",\n",
    "    \"|   43 distinct values for attribute #31 (country of birth father) nominal\",\n",
    "    \"|   43 distinct values for attribute #32 (country of birth mother) nominal\",\n",
    "    \"|   43 distinct values for attribute #33 (country of birth self) nominal\",\n",
    "    \"|    5 distinct values for attribute #34 (citizenship) nominal\",\n",
    "    \"|    3 distinct values for attribute #35 (own business or self employed) nominal\",\n",
    "    \"|    3 distinct values for attribute #36 (fill inc questionnaire for veteran's admin) nominal\",\n",
    "    \"|    3 distinct values for attribute #37 (veterans benefits) nominal\",\n",
    "    \"|   53 distinct values for attribute #38 (weeks worked in year) continuous\",\n",
    "    \"|    2 distinct values for attribute #39 (year) nominal\",\n",
    "]"
   ]
  },
  {
   "cell_type": "markdown",
   "id": "88c1fd32-354f-4540-b7a4-603027c609f9",
   "metadata": {
    "jp-MarkdownHeadingCollapsed": true
   },
   "source": [
    "## Clean data"
   ]
  },
  {
   "cell_type": "code",
   "execution_count": null,
   "id": "807ed1ae-bf65-4e50-8dfc-2be9e0a97b44",
   "metadata": {},
   "outputs": [],
   "source": [
    "s_data_info = pd.Series(data_info)\\\n",
    "    .str.replace(\"|\", \"\")\\\n",
    "    .str.replace(\"distinct values for attribute #\", \",\")\\\n",
    "    .str.replace(\"(\", \",\")\\\n",
    "    .str.replace(\")\", \",\")\\\n",
    "    .str.replace(\"'\",\"\")\\\n",
    "    .str.strip()\n",
    "df_data_info = s_data_info.str.split(\",\", expand=True).drop(1,axis=1)\n",
    "df_data_info.columns = [\"nunique\", \"column_name\", \"column_type\"]\n",
    "df_data_info[\"nunique\"] = df_data_info[\"nunique\"].astype(int)\n",
    "df_data_info.loc[40] = [2, \"target\", \"nominal\"]\n",
    "df_data_info = df_data_info.map(lambda x: x.strip() if isinstance(x, str) else x)"
   ]
  },
  {
   "cell_type": "markdown",
   "id": "0f760877-c430-4b9f-a966-4b8169daa12f",
   "metadata": {},
   "source": [
    "#### train data clean\n",
    "- df_train1"
   ]
  },
  {
   "cell_type": "code",
   "execution_count": null,
   "id": "dbca304a-0bf6-4ffe-95b5-951640c99e39",
   "metadata": {},
   "outputs": [],
   "source": [
    "print(f\"inital shape: {df_train.shape}\")\n",
    "print(f\"number of dups: {df_train.duplicated().sum()}\") # different total than metadata file (46627 vs.46716)\n",
    "if (df_train.nunique().reset_index(drop=True) == df_data_info[\"nunique\"]).all():\n",
    "    print(\"renaming columns\\n\")\n",
    "    df_train.columns = df_data_info[\"column_name\"].tolist()\n",
    "df_train = df_train.map(lambda x: x.strip() if isinstance(x, str) else x)\n",
    "df_train[\"target\"] = df_train[\"target\"].str.replace(\".\", \"\")\n",
    "\n",
    "# drop duplicate rows\n",
    "df_train1 = df_train.drop_duplicates(ignore_index=True)\n",
    "print(f\"shape after drop dups: {df_train1.shape}\")\n",
    "\n",
    "# if edu is Children then target < 50k\n",
    "print(\"\\nfilter Children - target counts\")\n",
    "print(df_train1[df_train1[\"education\"]==\"Children\"][\"target\"].value_counts())\n",
    "\n",
    "df_train1 = df_train1[df_train1[\"education\"]!=\"Children\"].reset_index(drop=True)\n",
    "print(f\"\\nshape after drop Children: {df_train1.shape}\")\n",
    "# print(df_train1.duplicated().sum())\n",
    "\n",
    "df_info_train = append_anomaly_counts(df_info=df_data_info, dataframe=df_train1)\n",
    "\n",
    "print(\"\\ntarget distribution\")\n",
    "print(df_train1[\"target\"].value_counts())"
   ]
  },
  {
   "cell_type": "markdown",
   "id": "54330587-30c4-4523-ad57-85f226d79159",
   "metadata": {},
   "source": [
    "#### Test data clean\n",
    "- df_test1"
   ]
  },
  {
   "cell_type": "code",
   "execution_count": null,
   "id": "88f6568e-a8c1-492a-b6a0-60d7821061cd",
   "metadata": {},
   "outputs": [],
   "source": [
    "print(f\"inital shape: {df_test.shape}\")\n",
    "print(f\"number of dups: {df_test.duplicated().sum()}\")\n",
    "print(\"renaming columns\\n\")\n",
    "df_test.columns = df_data_info[\"column_name\"].tolist()\n",
    "df_test = df_test.map(lambda x: x.strip() if isinstance(x, str) else x)\n",
    "df_test[\"target\"] = df_test[\"target\"].str.replace(\".\", \"\")\n",
    "\n",
    "# drop duplicate rows\n",
    "df_test1 = df_test.drop_duplicates(ignore_index=True)\n",
    "print(f\"shape after drop dups: {df_test1.shape}\")\n",
    "\n",
    "# if edu is Children then target < 50k\n",
    "print(\"\\nfilter Children - target counts\")\n",
    "print(df_test1[df_test1[\"education\"]==\"Children\"][\"target\"].value_counts())\n",
    "\n",
    "df_test1 = df_test1[df_test1[\"education\"]!=\"Children\"].reset_index(drop=True)\n",
    "print(f\"\\nshape after drop Children: {df_test1.shape}\")\n",
    "# print(df_test1.duplicated().sum())\n",
    "\n",
    "df_info_test = append_anomaly_counts(df_info=df_data_info, dataframe=df_test1)\n",
    "\n",
    "print(\"\\ntarget distribution\")\n",
    "print(df_test1[\"target\"].value_counts())"
   ]
  },
  {
   "cell_type": "markdown",
   "id": "76b2ebd8-2173-4948-b764-070bc041e5e2",
   "metadata": {},
   "source": [
    "## EDA"
   ]
  },
  {
   "cell_type": "markdown",
   "id": "c5b527e1-bc86-4c49-a7a8-9fff52294c53",
   "metadata": {},
   "source": [
    "### descriptive statistics"
   ]
  },
  {
   "cell_type": "code",
   "execution_count": null,
   "id": "9a564945-74e6-4721-8059-9744072c5a4f",
   "metadata": {},
   "outputs": [],
   "source": [
    "df_train1.describe()"
   ]
  },
  {
   "cell_type": "code",
   "execution_count": null,
   "id": "b302521b-b93d-4cfb-b01d-a121aaedf1ed",
   "metadata": {},
   "outputs": [],
   "source": [
    "df_train1.describe(include=\"object\")"
   ]
  },
  {
   "cell_type": "markdown",
   "id": "eaa8c7bd-a2ec-4a48-b9da-96647eabf921",
   "metadata": {},
   "source": [
    "### plot categorical distributions"
   ]
  },
  {
   "cell_type": "code",
   "execution_count": null,
   "id": "b0617f5b-aa02-43c9-923f-d766a9c2c82b",
   "metadata": {},
   "outputs": [],
   "source": [
    "cat_cols = df_train1.select_dtypes(include='object')\n",
    "for col in cat_cols:\n",
    "    n = df_train1[col].nunique()\n",
    "    if n <= 22:\n",
    "        sns.countplot(\n",
    "            y=col,\n",
    "            data=df_train1,\n",
    "            hue=col,\n",
    "            palette=sns.color_palette(palette=\"colorblind\", n_colors=n),\n",
    "            legend=False\n",
    "        )\n",
    "        plt.show()"
   ]
  },
  {
   "cell_type": "markdown",
   "id": "d52e6978-498c-4203-b703-057499799eb5",
   "metadata": {},
   "source": [
    "### slice target by numerical features"
   ]
  },
  {
   "cell_type": "code",
   "execution_count": null,
   "id": "b355a4ef-2e1c-41d5-a31f-580ce0503505",
   "metadata": {},
   "outputs": [],
   "source": [
    "num_cols = df_train1.select_dtypes(float).columns.values\n",
    "for col in num_cols:\n",
    "    sns.boxplot(\n",
    "        y=df_train1['target'].astype('category'),\n",
    "        hue=df_train1['target'].astype('category'),\n",
    "        x=col,\n",
    "        data=df_train1,\n",
    "        palette=sns.color_palette(palette=\"colorblind\", n_colors=2)\n",
    "    )\n",
    "    plt.show()"
   ]
  },
  {
   "cell_type": "code",
   "execution_count": null,
   "id": "f2051a13-fa45-4936-91c0-4b19f5816617",
   "metadata": {},
   "outputs": [],
   "source": [
    "for col in num_cols:\n",
    "    df_train1[col].hist(bins=20)\n",
    "    plt.show()"
   ]
  },
  {
   "cell_type": "markdown",
   "id": "51916c8a-bbb7-4237-8485-6496589e75bf",
   "metadata": {},
   "source": [
    "### slice target by categorical features"
   ]
  },
  {
   "cell_type": "code",
   "execution_count": null,
   "id": "359a4206-cfc7-4ec9-80f7-acf148b33c32",
   "metadata": {},
   "outputs": [],
   "source": [
    "# NEEDS REFACTORING\n",
    "for col in cat_cols:\n",
    "    if df_train1[col].nunique() <=4:\n",
    "        display(pd.crosstab(df_train1['target'], df_train1[col], normalize='index'))"
   ]
  },
  {
   "cell_type": "code",
   "execution_count": null,
   "id": "cf5fd4e4-a8e8-4b6e-9859-30c3427f36b3",
   "metadata": {},
   "outputs": [],
   "source": [
    "for col in cat_cols:\n",
    "    if df_train1[col].nunique() <= 4:\n",
    "        g = sns.catplot(x = col, kind='count', col = 'target', data=df_train1, sharey=False)\n",
    "        g.set_xticklabels(rotation=60)"
   ]
  },
  {
   "cell_type": "markdown",
   "id": "28709db7-22cb-4ff0-93b3-11ebceb0e353",
   "metadata": {},
   "source": [
    "### Group numerical features (mean) by categorical features"
   ]
  },
  {
   "cell_type": "code",
   "execution_count": null,
   "id": "0999ff13-5ed5-4ab5-9fa6-12f124dac44a",
   "metadata": {},
   "outputs": [],
   "source": [
    "for col in cat_cols:\n",
    "    if df_train1[col].nunique() <= 3:\n",
    "        display(df_train1.groupby(col)[num_cols].mean())"
   ]
  },
  {
   "cell_type": "markdown",
   "id": "891ac562-7b8f-4370-acbb-1df47adfdc86",
   "metadata": {},
   "source": [
    "### Correlation matrix for numerical features"
   ]
  },
  {
   "cell_type": "code",
   "execution_count": null,
   "id": "95aa5f85-4b94-4d84-b75b-895be38e52bd",
   "metadata": {},
   "outputs": [],
   "source": [
    "corr = df_train1.select_dtypes(float).corr()\n",
    "corr"
   ]
  },
  {
   "cell_type": "code",
   "execution_count": null,
   "id": "ef70d738-0a2f-46e5-824c-a68cc2a18373",
   "metadata": {},
   "outputs": [],
   "source": [
    "plt.figure(figsize=(6,6))\n",
    "sns.heatmap(corr, cmap='RdBu_r', annot=True, vmax=1, vmin=-1)\n",
    "plt.show()"
   ]
  },
  {
   "cell_type": "markdown",
   "id": "27675bb1-4a70-4d59-a244-4610ba0f0ea5",
   "metadata": {},
   "source": [
    "## Model train data"
   ]
  },
  {
   "cell_type": "code",
   "execution_count": null,
   "id": "6559f027-3644-47ef-ac27-1ce4f8c67510",
   "metadata": {},
   "outputs": [],
   "source": [
    "df_train1 = change_target_value(dataframe=df_train1)\n",
    "df_test1 = change_target_value(dataframe=df_test1)"
   ]
  },
  {
   "cell_type": "code",
   "execution_count": null,
   "id": "40eb62c3-8806-44dd-90e8-ed13b6ea4c56",
   "metadata": {},
   "outputs": [],
   "source": [
    "df_train1[\"target\"].value_counts()"
   ]
  },
  {
   "cell_type": "code",
   "execution_count": null,
   "id": "cec9be2b-938f-4419-b0df-5875b4a2de65",
   "metadata": {},
   "outputs": [],
   "source": [
    "df_test1[\"target\"].value_counts()"
   ]
  },
  {
   "cell_type": "code",
   "execution_count": null,
   "id": "16c20589-c9a3-4680-87c5-d77679a70c04",
   "metadata": {},
   "outputs": [],
   "source": [
    "df_class0 = df_train1[df_train1[\"target\"] == 0]\n",
    "df_class1 = df_train1[df_train1[\"target\"] == 1]"
   ]
  },
  {
   "cell_type": "code",
   "execution_count": null,
   "id": "781d0996-1cb4-43b6-8cc9-867674a5e7bf",
   "metadata": {},
   "outputs": [],
   "source": [
    "df_class0_sample = df_class0.sample(n=df_class1.shape[0], random_state=42, axis=0)\n",
    "df_train_balance = pd.concat([df_class0_sample, df_class1], axis=0).sample(frac=1, random_state=42).reset_index(drop=True)"
   ]
  },
  {
   "cell_type": "code",
   "execution_count": null,
   "id": "42e82e81-639b-41ca-bd9d-9fd0bf1ea70a",
   "metadata": {},
   "outputs": [],
   "source": [
    "y = df_train_balance[\"target\"]\n",
    "X = df_train_balance.drop(\"target\", axis=1)"
   ]
  },
  {
   "cell_type": "markdown",
   "id": "a8c1f8b4-149b-42e8-b15f-389b15a0196c",
   "metadata": {},
   "source": [
    "### logistic regression"
   ]
  },
  {
   "cell_type": "code",
   "execution_count": null,
   "id": "418e93fb-1dcc-4d96-ac46-305aa98c344c",
   "metadata": {},
   "outputs": [],
   "source": [
    "from sklearn.linear_model import LogisticRegression\n",
    "from sklearn.metrics import accuracy_score, classification_report"
   ]
  },
  {
   "cell_type": "code",
   "execution_count": null,
   "id": "54283637-eb02-4acb-95c1-3f92eaaf5ee1",
   "metadata": {},
   "outputs": [],
   "source": [
    "model = LogisticRegression(max_iter=1000)\n",
    "model.fit(X,y)"
   ]
  },
  {
   "cell_type": "code",
   "execution_count": null,
   "id": "f0b13a1a-cb25-4cb0-a038-4a16ff09998b",
   "metadata": {},
   "outputs": [],
   "source": []
  }
 ],
 "metadata": {
  "kernelspec": {
   "display_name": "Python 3 (ipykernel)",
   "language": "python",
   "name": "python3"
  },
  "language_info": {
   "codemirror_mode": {
    "name": "ipython",
    "version": 3
   },
   "file_extension": ".py",
   "mimetype": "text/x-python",
   "name": "python",
   "nbconvert_exporter": "python",
   "pygments_lexer": "ipython3",
   "version": "3.11.9"
  }
 },
 "nbformat": 4,
 "nbformat_minor": 5
}
